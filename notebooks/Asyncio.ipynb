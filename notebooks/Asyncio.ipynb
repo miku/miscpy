{
 "cells": [
  {
   "cell_type": "markdown",
   "id": "6e9a9e4e",
   "metadata": {},
   "source": [
    "A \"reboot\" PEP:\n",
    "    \n",
    "* https://peps.python.org/pep-3156/ Asynchronous IO Support Rebooted: the “asyncio” Module\n",
    "\n",
    "> This is a proposal for asynchronous I/O in Python 3, starting at Python 3.3. Consider this the concrete proposal that is missing from PEP 3153. The proposal includes a pluggable event loop, transport and protocol abstractions similar to those in Twisted, and a higher-level scheduler based on yield from (PEP 380). The proposed package name is asyncio."
   ]
  },
  {
   "cell_type": "markdown",
   "id": "a80531e2",
   "metadata": {},
   "source": [
    "Package development throughout 3.5"
   ]
  },
  {
   "cell_type": "code",
   "execution_count": 1,
   "id": "80027610",
   "metadata": {},
   "outputs": [],
   "source": [
    "import asyncio"
   ]
  },
  {
   "cell_type": "code",
   "execution_count": 5,
   "id": "c6894c1c",
   "metadata": {},
   "outputs": [
    {
     "data": {
      "text/plain": [
       "121"
      ]
     },
     "execution_count": 5,
     "metadata": {},
     "output_type": "execute_result"
    }
   ],
   "source": [
    "len(dir(asyncio))"
   ]
  },
  {
   "cell_type": "markdown",
   "id": "e8aec1ea",
   "metadata": {},
   "source": [
    "Previous projects existed, most notably `Twisted`\n",
    "\n",
    "> The event loop is the place where most interoperability occurs. [PEP3156]"
   ]
  },
  {
   "cell_type": "code",
   "execution_count": 7,
   "id": "680c455b",
   "metadata": {},
   "outputs": [
    {
     "data": {
      "text/plain": [
       "<_UnixSelectorEventLoop running=True closed=False debug=False>"
      ]
     },
     "execution_count": 7,
     "metadata": {},
     "output_type": "execute_result"
    }
   ],
   "source": [
    "asyncio.get_event_loop()"
   ]
  },
  {
   "cell_type": "code",
   "execution_count": 8,
   "id": "01537d50",
   "metadata": {},
   "outputs": [
    {
     "data": {
      "text/plain": [
       "<asyncio.unix_events._UnixDefaultEventLoopPolicy at 0x7f37374b89a0>"
      ]
     },
     "execution_count": 8,
     "metadata": {},
     "output_type": "execute_result"
    }
   ],
   "source": [
    "asyncio.get_event_loop_policy()"
   ]
  },
  {
   "cell_type": "code",
   "execution_count": null,
   "id": "b0eb0d77",
   "metadata": {},
   "outputs": [],
   "source": []
  }
 ],
 "metadata": {
  "kernelspec": {
   "display_name": "Python 3 (ipykernel)",
   "language": "python",
   "name": "python3"
  },
  "language_info": {
   "codemirror_mode": {
    "name": "ipython",
    "version": 3
   },
   "file_extension": ".py",
   "mimetype": "text/x-python",
   "name": "python",
   "nbconvert_exporter": "python",
   "pygments_lexer": "ipython3",
   "version": "3.8.15"
  }
 },
 "nbformat": 4,
 "nbformat_minor": 5
}
