{
 "cells": [
  {
   "cell_type": "markdown",
   "id": "ee0121a6",
   "metadata": {},
   "source": [
    "## Decorators\n",
    "\n",
    "* decorators allow to factor out certain cross-cutting concerns\n",
    "* they are used as an integration tool (e.g. joining routes of a web application with handlers)\n",
    "* they work, because python has first class functions\n",
    "\n",
    "Examples:\n",
    "\n",
    "```python\n",
    "from flask import Flask\n",
    "app = Flask(__name__)\n",
    "\n",
    "@app.route('/')\n",
    "def hello_world():\n",
    "    return 'Hello, World!'\n",
    "```\n",
    "\n",
    "* more examples: [https://wiki.python.org/moin/PythonDecoratorLibrary](https://wiki.python.org/moin/PythonDecoratorLibrary)\n",
    "\n",
    "### Writing a decorator\n",
    "\n",
    "A decorator is syntactic sugar for:\n",
    "\n",
    "```python\n",
    "\n",
    "@decorator\n",
    "def some_function():\n",
    "    pass\n",
    "\n",
    "some_function = decorator(some_function)\n",
    "```\n",
    "\n",
    "The main idea is to return a function, that wraps the original function.\n",
    "\n",
    "* [Snippets/Decorator](Snippets/Decorator)\n",
    "\n",
    "```python\n",
    "def deco(f):\n",
    "    def inner(*args, **kwargs):\n",
    "        print(\"[deco] calling {}\".format(f.__name__))\n",
    "        result = f(*args, **kwargs)\n",
    "        print(\"[deco] exited {}\".format(f.__name__))\n",
    "        return result\n",
    "    return inner\n",
    "\n",
    "@deco\n",
    "def hello(name=\"world\"):\n",
    "    print(\"hello \" + name)\n",
    "\n",
    "hello()\n",
    "```\n",
    "\n",
    "\n",
    "## Decorators with and without arguments\n",
    "\n",
    "Decorators can take arguments or not.\n",
    "\n",
    "```python\n",
    "@deco\n",
    "def f():\n",
    "    pass\n",
    "    \n",
    "@deco(a=1)\n",
    "def f():\n",
    "    pass\n",
    "```\n",
    "\n",
    "\n",
    "## Decorators can be stacked"
   ]
  },
  {
   "cell_type": "code",
   "execution_count": 3,
   "id": "ab31b38f",
   "metadata": {},
   "outputs": [],
   "source": [
    "def deco1(f):\n",
    "    def inner(*args, **kwargs):\n",
    "        print(\"deco1\")\n",
    "        f(*args, **kwargs)\n",
    "    return inner\n",
    "\n",
    "def deco2(f):\n",
    "    def inner(*args, **kwargs):\n",
    "        print(\"deco2\")\n",
    "        f(*args, **kwargs)\n",
    "    return inner\n"
   ]
  },
  {
   "cell_type": "code",
   "execution_count": 4,
   "id": "a4a42678",
   "metadata": {},
   "outputs": [],
   "source": [
    "@deco1\n",
    "@deco2\n",
    "def f():\n",
    "    print(\"f\")"
   ]
  },
  {
   "cell_type": "code",
   "execution_count": 5,
   "id": "13b2c6ef",
   "metadata": {},
   "outputs": [
    {
     "name": "stdout",
     "output_type": "stream",
     "text": [
      "deco1\n",
      "deco2\n",
      "f\n"
     ]
    }
   ],
   "source": [
    "f()"
   ]
  },
  {
   "cell_type": "markdown",
   "id": "61cab22d",
   "metadata": {},
   "source": [
    "Task: write small decorator that caches return values of functions"
   ]
  },
  {
   "cell_type": "code",
   "execution_count": 13,
   "id": "0c6b2705",
   "metadata": {},
   "outputs": [],
   "source": [
    "def cache(f):\n",
    "    cache = {}\n",
    "    def inner(*args, **kwargs):\n",
    "        key = f\"{args}{kwargs}\"\n",
    "        try:\n",
    "            return cache[key]\n",
    "        except KeyError:\n",
    "            print(\"not cached\")\n",
    "            result = f(*args, **kwargs)\n",
    "            cache[key] = result\n",
    "        return cache[key]\n",
    "    return inner"
   ]
  },
  {
   "cell_type": "code",
   "execution_count": 16,
   "id": "078dfa32",
   "metadata": {},
   "outputs": [],
   "source": [
    "@cache\n",
    "def hello(name):\n",
    "    return f\"hello {name}\""
   ]
  },
  {
   "cell_type": "code",
   "execution_count": 17,
   "id": "0f4fee45",
   "metadata": {},
   "outputs": [
    {
     "name": "stdout",
     "output_type": "stream",
     "text": [
      "not cached\n"
     ]
    },
    {
     "data": {
      "text/plain": [
       "'hello world'"
      ]
     },
     "execution_count": 17,
     "metadata": {},
     "output_type": "execute_result"
    }
   ],
   "source": [
    "hello(\"world\")"
   ]
  },
  {
   "cell_type": "code",
   "execution_count": 18,
   "id": "325c581f",
   "metadata": {},
   "outputs": [
    {
     "data": {
      "text/plain": [
       "'hello world'"
      ]
     },
     "execution_count": 18,
     "metadata": {},
     "output_type": "execute_result"
    }
   ],
   "source": [
    "hello(\"world\")"
   ]
  },
  {
   "cell_type": "code",
   "execution_count": 19,
   "id": "c5d0a6f3",
   "metadata": {},
   "outputs": [
    {
     "name": "stdout",
     "output_type": "stream",
     "text": [
      "not cached\n"
     ]
    },
    {
     "data": {
      "text/plain": [
       "'hello martin'"
      ]
     },
     "execution_count": 19,
     "metadata": {},
     "output_type": "execute_result"
    }
   ],
   "source": [
    "hello(\"martin\")"
   ]
  },
  {
   "cell_type": "code",
   "execution_count": 20,
   "id": "b89da946",
   "metadata": {},
   "outputs": [
    {
     "data": {
      "text/plain": [
       "'hello martin'"
      ]
     },
     "execution_count": 20,
     "metadata": {},
     "output_type": "execute_result"
    }
   ],
   "source": [
    "hello(\"martin\")"
   ]
  },
  {
   "cell_type": "markdown",
   "id": "e958a712",
   "metadata": {},
   "source": [
    "## Functools Helper\n",
    "\n",
    "* we can wrap the inner function (with a decorator) to keep name and docstring\n",
    "\n",
    "```python\n",
    "from functools import wraps\n",
    "\n",
    "\n",
    "def my_decorator(f):\n",
    "    @wraps(f)\n",
    "    def wrapper(*args, **kwds):\n",
    "        print('Calling decorated function')\n",
    "        return f(*args, **kwds)\n",
    "    return wrapper\n",
    "\n",
    "@my_decorator\n",
    "def example():\n",
    "    \"\"\"Docstring\"\"\"\n",
    "    print('Called example function')\n",
    "\n",
    "example()\n",
    "\n",
    "print(example.__name__)\n",
    "print(example.__doc__)\n",
    "```"
   ]
  },
  {
   "cell_type": "markdown",
   "id": "e90dec7e",
   "metadata": {},
   "source": [
    "Decorators in the standard library\n",
    "\n",
    "* functools.wraps\n",
    "* functools.cache (3.9)\n",
    "* functools.cached_property\n",
    "* functools.lru_cache (128)\n",
    "* functools.singledispatch (https://peps.python.org/pep-0443/, Single-dispatch generic functions)"
   ]
  },
  {
   "cell_type": "code",
   "execution_count": 13,
   "id": "af224a43",
   "metadata": {},
   "outputs": [],
   "source": [
    "import functools, statistics"
   ]
  },
  {
   "cell_type": "code",
   "execution_count": 15,
   "id": "0ebb258c",
   "metadata": {},
   "outputs": [],
   "source": [
    "class DataSet:\n",
    "\n",
    "    def __init__(self, sequence_of_numbers):\n",
    "        self._data = tuple(sequence_of_numbers)\n",
    "\n",
    "    @functools.cached_property\n",
    "    def stdev(self):\n",
    "        return statistics.stdev(self._data)\n"
   ]
  },
  {
   "cell_type": "code",
   "execution_count": 19,
   "id": "8ee2a4fd",
   "metadata": {},
   "outputs": [],
   "source": [
    "ds = DataSet(range(1000))"
   ]
  },
  {
   "cell_type": "code",
   "execution_count": 20,
   "id": "510ceeb6",
   "metadata": {},
   "outputs": [
    {
     "name": "stdout",
     "output_type": "stream",
     "text": [
      "CPU times: user 0 ns, sys: 5.7 ms, total: 5.7 ms\n",
      "Wall time: 4.04 ms\n"
     ]
    },
    {
     "data": {
      "text/plain": [
       "288.8194360957494"
      ]
     },
     "execution_count": 20,
     "metadata": {},
     "output_type": "execute_result"
    }
   ],
   "source": [
    "%time ds.stdev"
   ]
  },
  {
   "cell_type": "code",
   "execution_count": 21,
   "id": "d83799e6",
   "metadata": {},
   "outputs": [
    {
     "name": "stdout",
     "output_type": "stream",
     "text": [
      "CPU times: user 16 µs, sys: 1 µs, total: 17 µs\n",
      "Wall time: 28.8 µs\n"
     ]
    },
    {
     "data": {
      "text/plain": [
       "288.8194360957494"
      ]
     },
     "execution_count": 21,
     "metadata": {},
     "output_type": "execute_result"
    }
   ],
   "source": [
    "%time ds.stdev"
   ]
  },
  {
   "cell_type": "code",
   "execution_count": 6,
   "id": "b7093506",
   "metadata": {},
   "outputs": [],
   "source": [
    "@functools.lru_cache\n",
    "def count_vowels(sentence):\n",
    "    return sum(sentence.count(vowel) for vowel in 'AEIOUaeiou')"
   ]
  },
  {
   "cell_type": "code",
   "execution_count": 11,
   "id": "c57d655a",
   "metadata": {},
   "outputs": [
    {
     "name": "stdout",
     "output_type": "stream",
     "text": [
      "CPU times: user 1.53 ms, sys: 0 ns, total: 1.53 ms\n",
      "Wall time: 1.56 ms\n"
     ]
    },
    {
     "data": {
      "text/plain": [
       "20000"
      ]
     },
     "execution_count": 11,
     "metadata": {},
     "output_type": "execute_result"
    }
   ],
   "source": [
    "%time count_vowels(\"abcde\" * 10000)"
   ]
  },
  {
   "cell_type": "code",
   "execution_count": 12,
   "id": "47d8d4f9",
   "metadata": {},
   "outputs": [
    {
     "name": "stdout",
     "output_type": "stream",
     "text": [
      "CPU times: user 91 µs, sys: 3 µs, total: 94 µs\n",
      "Wall time: 107 µs\n"
     ]
    },
    {
     "data": {
      "text/plain": [
       "20000"
      ]
     },
     "execution_count": 12,
     "metadata": {},
     "output_type": "execute_result"
    }
   ],
   "source": [
    "%time count_vowels(\"abcde\" * 10000)"
   ]
  },
  {
   "cell_type": "code",
   "execution_count": 25,
   "id": "2ad295f7",
   "metadata": {},
   "outputs": [
    {
     "name": "stdout",
     "output_type": "stream",
     "text": [
      "First argument is of type  <class 'int'>\n",
      "3\n",
      "First argument is of type  <class 'str'>\n",
      "PythonProgramming\n",
      "First argument is of type  <class 'list'>\n",
      "[1, 2, 3, 5, 6, 7]\n"
     ]
    }
   ],
   "source": [
    "from functools import singledispatch\n",
    "\n",
    "@singledispatch\n",
    "def add(a, b):\n",
    "    raise NotImplementedError('Unsupported type')\n",
    "\n",
    "@add.register(int)\n",
    "def _(a, b):\n",
    "    print(\"First argument is of type \", type(a))\n",
    "    print(a + b)\n",
    "\n",
    "@add.register(str)\n",
    "def _(a, b):\n",
    "    print(\"First argument is of type \", type(a))\n",
    "    print(a + b)\n",
    "\n",
    "@add.register(list)\n",
    "def _(a, b):\n",
    "    print(\"First argument is of type \", type(a))\n",
    "    print(a + b)\n",
    "\n",
    "if __name__ == '__main__':\n",
    "    add(1, 2)\n",
    "    add('Python', 'Programming')\n",
    "    add([1, 2, 3], [5, 6, 7])"
   ]
  },
  {
   "cell_type": "code",
   "execution_count": null,
   "id": "3288ac9a",
   "metadata": {},
   "outputs": [],
   "source": []
  }
 ],
 "metadata": {
  "kernelspec": {
   "display_name": "Python 3 (ipykernel)",
   "language": "python",
   "name": "python3"
  },
  "language_info": {
   "codemirror_mode": {
    "name": "ipython",
    "version": 3
   },
   "file_extension": ".py",
   "mimetype": "text/x-python",
   "name": "python",
   "nbconvert_exporter": "python",
   "pygments_lexer": "ipython3",
   "version": "3.8.15"
  }
 },
 "nbformat": 4,
 "nbformat_minor": 5
}
