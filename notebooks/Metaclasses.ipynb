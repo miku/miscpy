{
 "cells": [
  {
   "cell_type": "markdown",
   "id": "004eb610",
   "metadata": {},
   "source": [
    "## Metaclasses\n",
    "\n",
    "Metaclass, the class of a class ([docs](https://docs.python.org/3/reference/datamodel.html#metaclasses))\n",
    "\n",
    "Basic class creation:\n",
    "\n",
    "> By default, classes are constructed using type(). The class body is executed in a new namespace and the class name is bound locally to the result of type(name, bases, namespace).\n",
    "\n",
    "When a class definition is executed, the following steps occur:\n",
    "\n",
    "* MRO entries are resolved;\n",
    "* the appropriate metaclass is determined;\n",
    "* the class namespace is prepared;\n",
    "* the class body is executed;\n",
    "* the class object is created.\n",
    "\n",
    "Also:\n",
    "\n",
    "“Metaclasses are deeper magic than 99% of users should ever worry about. If you wonder whether you need them, you don’t (the people who actually need them know with certainty that they need them, and don’t need an explanation about why).”"
   ]
  },
  {
   "cell_type": "code",
   "execution_count": 2,
   "id": "edad3b86",
   "metadata": {},
   "outputs": [],
   "source": [
    "class Meta(type):\n",
    "    pass\n",
    "\n",
    "class MyClass(metaclass=Meta):\n",
    "    pass\n",
    "\n",
    "class MySubclass(MyClass):\n",
    "    pass"
   ]
  },
  {
   "cell_type": "code",
   "execution_count": 7,
   "id": "9c6faef6",
   "metadata": {},
   "outputs": [
    {
     "data": {
      "text/plain": [
       "__main__.Meta"
      ]
     },
     "execution_count": 7,
     "metadata": {},
     "output_type": "execute_result"
    }
   ],
   "source": [
    "type(MySubclass) # __main__.Meta"
   ]
  },
  {
   "cell_type": "code",
   "execution_count": 10,
   "id": "3b2178ea",
   "metadata": {},
   "outputs": [],
   "source": [
    "a = MyClass()"
   ]
  },
  {
   "cell_type": "markdown",
   "id": "8a42b56d",
   "metadata": {},
   "source": [
    "> type is a metaclass, of which classes are instances"
   ]
  },
  {
   "cell_type": "markdown",
   "id": "a1ef6b3c",
   "metadata": {},
   "source": [
    "We can create a class with type, like so:\n"
   ]
  },
  {
   "cell_type": "code",
   "execution_count": 14,
   "id": "517f2254",
   "metadata": {},
   "outputs": [],
   "source": [
    "C = type(\"C\", (), {})"
   ]
  },
  {
   "cell_type": "code",
   "execution_count": 15,
   "id": "e1e98c7f",
   "metadata": {},
   "outputs": [
    {
     "data": {
      "text/plain": [
       "type"
      ]
     },
     "execution_count": 15,
     "metadata": {},
     "output_type": "execute_result"
    }
   ],
   "source": [
    "type(C)"
   ]
  },
  {
   "cell_type": "markdown",
   "id": "cb7ece95",
   "metadata": {},
   "source": [
    "What happens at class creation?"
   ]
  },
  {
   "cell_type": "code",
   "execution_count": 16,
   "id": "fd7b42c2",
   "metadata": {},
   "outputs": [],
   "source": [
    "class A:\n",
    "    pass\n",
    "\n",
    "a = A()"
   ]
  },
  {
   "cell_type": "markdown",
   "id": "8b5ab837",
   "metadata": {},
   "source": [
    "* A is called, it execute `__call__` of superclass, which is type\n",
    "* parent's `__call__` invokes `__new__` and `__init__`\n",
    "* a will be set to what `__new__` returns"
   ]
  },
  {
   "cell_type": "markdown",
   "id": "7ab0edca",
   "metadata": {},
   "source": [
    "So `type` is a class as well, so it has a `__new__` method."
   ]
  },
  {
   "cell_type": "code",
   "execution_count": 18,
   "id": "16442f8c",
   "metadata": {},
   "outputs": [],
   "source": [
    "type.__new__?"
   ]
  },
  {
   "cell_type": "code",
   "execution_count": 42,
   "id": "2fda8648",
   "metadata": {},
   "outputs": [],
   "source": [
    "def new(cls):\n",
    "    inst = object.__new__(cls)\n",
    "    inst.attr = 1\n",
    "    return inst\n",
    "    "
   ]
  },
  {
   "cell_type": "code",
   "execution_count": 43,
   "id": "8a25f34f",
   "metadata": {},
   "outputs": [],
   "source": [
    "class A:\n",
    "    pass\n"
   ]
  },
  {
   "cell_type": "code",
   "execution_count": 44,
   "id": "ef110dfb",
   "metadata": {},
   "outputs": [],
   "source": [
    "A.__new__ = new"
   ]
  },
  {
   "cell_type": "code",
   "execution_count": 45,
   "id": "d532a765",
   "metadata": {},
   "outputs": [],
   "source": [
    "a = A()"
   ]
  },
  {
   "cell_type": "code",
   "execution_count": 33,
   "id": "fe56cea0",
   "metadata": {},
   "outputs": [
    {
     "data": {
      "text/plain": [
       "1"
      ]
     },
     "execution_count": 33,
     "metadata": {},
     "output_type": "execute_result"
    }
   ],
   "source": [
    "a.attr"
   ]
  },
  {
   "cell_type": "markdown",
   "id": "3cb2968a",
   "metadata": {},
   "source": [
    "However, we cannot alter `type` here.\n"
   ]
  },
  {
   "cell_type": "code",
   "execution_count": 46,
   "id": "06c31cf5",
   "metadata": {},
   "outputs": [
    {
     "data": {
      "text/plain": [
       "<function type.__new__(*args, **kwargs)>"
      ]
     },
     "execution_count": 46,
     "metadata": {},
     "output_type": "execute_result"
    }
   ],
   "source": [
    "type.__new__"
   ]
  },
  {
   "cell_type": "code",
   "execution_count": 48,
   "id": "9d8b396d",
   "metadata": {},
   "outputs": [],
   "source": [
    "# type.__new__ = lambda cls: cls # TypeError: cannot set '__new__' attribute of immutable type 'type'"
   ]
  },
  {
   "cell_type": "markdown",
   "id": "f47f67af",
   "metadata": {},
   "source": [
    "In order to customize class creation, we can use a metaclass."
   ]
  },
  {
   "cell_type": "code",
   "execution_count": 53,
   "id": "01dc1c5d",
   "metadata": {},
   "outputs": [],
   "source": [
    "class Meta(type):\n",
    "    def __new__(cls, name, bases, dct):\n",
    "        v = super().__new__(cls, name, bases, dct)\n",
    "        v.attr = 123\n",
    "        return v"
   ]
  },
  {
   "cell_type": "code",
   "execution_count": 54,
   "id": "477c7fc7",
   "metadata": {},
   "outputs": [],
   "source": [
    "class A(metaclass=Meta):\n",
    "    pass"
   ]
  },
  {
   "cell_type": "code",
   "execution_count": 55,
   "id": "caf71b02",
   "metadata": {},
   "outputs": [
    {
     "data": {
      "text/plain": [
       "__main__.Meta"
      ]
     },
     "execution_count": 55,
     "metadata": {},
     "output_type": "execute_result"
    }
   ],
   "source": [
    "type(A)"
   ]
  },
  {
   "cell_type": "code",
   "execution_count": 56,
   "id": "c6829990",
   "metadata": {},
   "outputs": [
    {
     "data": {
      "text/plain": [
       "123"
      ]
     },
     "execution_count": 56,
     "metadata": {},
     "output_type": "execute_result"
    }
   ],
   "source": [
    "A.attr"
   ]
  },
  {
   "cell_type": "code",
   "execution_count": 57,
   "id": "c867991b",
   "metadata": {},
   "outputs": [
    {
     "data": {
      "text/plain": [
       "(object,)"
      ]
     },
     "execution_count": 57,
     "metadata": {},
     "output_type": "execute_result"
    }
   ],
   "source": [
    "A.__bases__"
   ]
  },
  {
   "cell_type": "markdown",
   "id": "7655803f",
   "metadata": {},
   "source": [
    "A more complete example"
   ]
  },
  {
   "cell_type": "code",
   "execution_count": 78,
   "id": "bdd8a700",
   "metadata": {},
   "outputs": [
    {
     "name": "stdout",
     "output_type": "stream",
     "text": [
      "__new__ metaclass <class '__main__.MyMeta'> A () {'__module__': '__main__', '__qualname__': 'A', '__new__': <function A.__new__ at 0x7fd9e9085620>, '__init__': <function A.__init__ at 0x7fd9e9087ec0>, '__classcell__': <cell at 0x7fd9f8290850: empty>}\n"
     ]
    }
   ],
   "source": [
    "class MyMeta(type):\n",
    "    def __new__(cls, name, bases, dct):\n",
    "        print(f\"__new__ metaclass {cls} {name} {bases} {dct}\")\n",
    "        inst = super().__new__(cls, name, bases, dct)\n",
    "        return inst\n",
    "\n",
    "class A(metaclass=MyMeta):\n",
    "    def __new__(cls, *args, **kwargs):\n",
    "        print(f\"__new__ {cls} {args} {kwargs}\")\n",
    "        return super().__new__(cls, *args, **kwargs)\n",
    "    \n",
    "    def __init__(self):\n",
    "        print(f\"__init__ {self}\")\n",
    "    "
   ]
  },
  {
   "cell_type": "code",
   "execution_count": 79,
   "id": "71f6f764",
   "metadata": {},
   "outputs": [
    {
     "name": "stdout",
     "output_type": "stream",
     "text": [
      "__new__ <class '__main__.A'> () {}\n",
      "__init__ <__main__.A object at 0x7fd9e9655cd0>\n"
     ]
    }
   ],
   "source": [
    "a = A()"
   ]
  },
  {
   "cell_type": "code",
   "execution_count": 77,
   "id": "58c3bca9",
   "metadata": {},
   "outputs": [],
   "source": [
    "a.x = 1"
   ]
  },
  {
   "cell_type": "markdown",
   "id": "880777a1",
   "metadata": {},
   "source": [
    "Example: A metaclass that disallows undocumented classes."
   ]
  },
  {
   "cell_type": "code",
   "execution_count": 66,
   "id": "d81a88a2",
   "metadata": {},
   "outputs": [],
   "source": [
    "class DocsRequired(type):\n",
    "    def __new__(cls, name, bases, dct):\n",
    "        inst = super().__new__(cls, name, bases, dct)\n",
    "        if not inst.__doc__:\n",
    "            raise RuntimeError(f\"class has no docs {cls}\")\n",
    "        return inst"
   ]
  },
  {
   "cell_type": "code",
   "execution_count": 80,
   "id": "0f9d1fc9",
   "metadata": {},
   "outputs": [],
   "source": [
    "# class A(metaclass=DocsRequired): # RuntimeError: class has no docs <class '__main__.DocsRequired'>\n",
    "#     pass"
   ]
  },
  {
   "cell_type": "markdown",
   "id": "3a228444",
   "metadata": {},
   "source": [
    "Some use cases for registration.\n",
    "\n",
    "* registration, example: [task.py](https://github.com/spotify/luigi/blob/38b0c2b8d400f6fc57ebbdc4064aadd4f3d7b612/luigi/task.py#L147-L171), [task_register.py](https://github.com/spotify/luigi/blob/38b0c2b8d400f6fc57ebbdc4064aadd4f3d7b612/luigi/task_register.py#L39-L48)\n",
    "* enforcing implementations of abstract methods, example [metrics.py](https://github.com/spotify/luigi/blob/38b0c2b8d400f6fc57ebbdc4064aadd4f3d7b612/luigi/metrics.py#L44-L73)"
   ]
  },
  {
   "cell_type": "markdown",
   "id": "bdbd7414",
   "metadata": {},
   "source": [
    "Abstract base classes, ABC provides a metaclass as well."
   ]
  },
  {
   "cell_type": "markdown",
   "id": "cbdbf0ea",
   "metadata": {},
   "source": [
    "Module [abc]() provides a convenience layer as `abc.ABC` -- [abc.py](https://github.com/python/cpython/blob/91a8e002c21a5388c5152c5a4871b9a2d85f0fc1/Lib/abc.py#L184-L188)\n",
    "\n",
    "Used in conjuntion with `abc.abstractmethod` class decorator to ensure all required methods are implemented.\n",
    "\n",
    "> Requires that the metaclass is ABCMeta or derived from it.  A\n",
    "    class that has a metaclass derived from ABCMeta cannot be\n",
    "    instantiated unless all of its abstract methods are overridden."
   ]
  },
  {
   "cell_type": "code",
   "execution_count": null,
   "id": "fc050a4e",
   "metadata": {},
   "outputs": [],
   "source": []
  }
 ],
 "metadata": {
  "kernelspec": {
   "display_name": "Python 3 (ipykernel)",
   "language": "python",
   "name": "python3"
  },
  "language_info": {
   "codemirror_mode": {
    "name": "ipython",
    "version": 3
   },
   "file_extension": ".py",
   "mimetype": "text/x-python",
   "name": "python",
   "nbconvert_exporter": "python",
   "pygments_lexer": "ipython3",
   "version": "3.11.0"
  }
 },
 "nbformat": 4,
 "nbformat_minor": 5
}
