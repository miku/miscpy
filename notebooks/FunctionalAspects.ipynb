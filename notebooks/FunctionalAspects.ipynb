{
 "cells": [
  {
   "cell_type": "markdown",
   "id": "e64472f1",
   "metadata": {},
   "source": [
    "### Functional Aspects"
   ]
  },
  {
   "cell_type": "markdown",
   "id": "06a0ad8a",
   "metadata": {},
   "source": [
    "Working with sequences.\n",
    "\n",
    "* itertools\n",
    "* map, functools.reduce\n",
    "* first class functions, e.g. in sorted\n",
    "* operator module\n",
    "* functools.partial"
   ]
  },
  {
   "cell_type": "markdown",
   "id": "b292a9e0",
   "metadata": {},
   "source": [
    "### Itertools\n",
    "\n",
    "> iterator building blocks \n",
    "\n",
    "* infinite iterators\n",
    "* filters, chain, pairwise, ...\n",
    "* combinatoric iterators"
   ]
  },
  {
   "cell_type": "markdown",
   "id": "0514888b",
   "metadata": {},
   "source": [
    "Some selected examples"
   ]
  },
  {
   "cell_type": "code",
   "execution_count": 24,
   "id": "70dffc10",
   "metadata": {},
   "outputs": [],
   "source": [
    "import itertools"
   ]
  },
  {
   "cell_type": "markdown",
   "id": "f382b7ca",
   "metadata": {},
   "source": [
    "### Grouping items from sequences"
   ]
  },
  {
   "cell_type": "code",
   "execution_count": 25,
   "id": "7153a2e9",
   "metadata": {},
   "outputs": [
    {
     "data": {
      "text/plain": [
       "[(0, 'a'), (1, 'b'), (2, 'c'), (3, 'd'), (4, 'e'), (5, 'f')]"
      ]
     },
     "execution_count": 25,
     "metadata": {},
     "output_type": "execute_result"
    }
   ],
   "source": [
    "a = list(range(10))\n",
    "b = list(\"abcdef\")\n",
    "\n",
    "list(zip(a, b))"
   ]
  },
  {
   "cell_type": "code",
   "execution_count": 26,
   "id": "ad71fca0",
   "metadata": {},
   "outputs": [
    {
     "data": {
      "text/plain": [
       "[(0, 1), (1, 2), (2, 3), (3, 4), (4, 5), (5, 6), (6, 7), (7, 8), (8, 9)]"
      ]
     },
     "execution_count": 26,
     "metadata": {},
     "output_type": "execute_result"
    }
   ],
   "source": [
    "list(zip(a, a[1:]))"
   ]
  },
  {
   "cell_type": "markdown",
   "id": "64f0700d",
   "metadata": {},
   "source": [
    "There is also `zip_longest` which uses a fill value and consumes the whole iterator."
   ]
  },
  {
   "cell_type": "markdown",
   "id": "9c2c0516",
   "metadata": {},
   "source": [
    "### Map and Reduce\n",
    "\n",
    "* apply function on elements"
   ]
  },
  {
   "cell_type": "markdown",
   "id": "d1266c76",
   "metadata": {},
   "source": [
    "* apply function on elements"
   ]
  },
  {
   "cell_type": "code",
   "execution_count": 27,
   "id": "f3b31efc",
   "metadata": {},
   "outputs": [
    {
     "data": {
      "text/plain": [
       "[3, 2, 4]"
      ]
     },
     "execution_count": 27,
     "metadata": {},
     "output_type": "execute_result"
    }
   ],
   "source": [
    "list(map(len, ['abc', 'de', 'fghi']))"
   ]
  },
  {
   "cell_type": "markdown",
   "id": "8c00bdef",
   "metadata": {},
   "source": [
    "There is an operator module for functional equivalents of operators, e.g. `add`."
   ]
  },
  {
   "cell_type": "code",
   "execution_count": 28,
   "id": "6ef15d7f",
   "metadata": {},
   "outputs": [],
   "source": [
    "import functools, operator"
   ]
  },
  {
   "cell_type": "code",
   "execution_count": 29,
   "id": "e772afee",
   "metadata": {},
   "outputs": [
    {
     "data": {
      "text/plain": [
       "6"
      ]
     },
     "execution_count": 29,
     "metadata": {},
     "output_type": "execute_result"
    }
   ],
   "source": [
    "functools.reduce(operator.add, [1, 2, 3], 0)"
   ]
  },
  {
   "cell_type": "markdown",
   "id": "5856c906",
   "metadata": {},
   "source": [
    "### Composition example"
   ]
  },
  {
   "cell_type": "code",
   "execution_count": 30,
   "id": "b7811d51",
   "metadata": {},
   "outputs": [
    {
     "data": {
      "text/plain": [
       "[0, 2, 4, 6, 8, 10, 12, 14, 16, 18]"
      ]
     },
     "execution_count": 30,
     "metadata": {},
     "output_type": "execute_result"
    }
   ],
   "source": [
    "list(map(sum, zip(range(10), range(10))))"
   ]
  },
  {
   "cell_type": "markdown",
   "id": "48ff05c4",
   "metadata": {},
   "source": [
    "### Grouping elements"
   ]
  },
  {
   "cell_type": "code",
   "execution_count": 31,
   "id": "e4bcb19b",
   "metadata": {},
   "outputs": [],
   "source": [
    "def grouper(inputs, n, fillvalue=None):\n",
    "    iters = [iter(inputs)] * n\n",
    "    return itertools.zip_longest(*iters, fillvalue=fillvalue)"
   ]
  },
  {
   "cell_type": "code",
   "execution_count": 33,
   "id": "971b01be",
   "metadata": {},
   "outputs": [
    {
     "data": {
      "text/plain": [
       "[(0, 1, 2), (3, 4, 5), (6, 7, 8), (9, None, None)]"
      ]
     },
     "execution_count": 33,
     "metadata": {},
     "output_type": "execute_result"
    }
   ],
   "source": [
    "list(grouper(range(10), 3))"
   ]
  },
  {
   "cell_type": "markdown",
   "id": "e3fb3a6f",
   "metadata": {},
   "source": [
    "### Product"
   ]
  },
  {
   "cell_type": "code",
   "execution_count": 38,
   "id": "b3df61fd",
   "metadata": {},
   "outputs": [
    {
     "name": "stdout",
     "output_type": "stream",
     "text": [
      "('A', 0, 'x')\n",
      "('A', 0, 'y')\n",
      "('A', 1, 'x')\n",
      "('A', 1, 'y')\n",
      "('A', 2, 'x')\n",
      "('A', 2, 'y')\n",
      "('A', 3, 'x')\n",
      "('A', 3, 'y')\n",
      "('B', 0, 'x')\n",
      "('B', 0, 'y')\n",
      "('B', 1, 'x')\n",
      "('B', 1, 'y')\n",
      "('B', 2, 'x')\n",
      "('B', 2, 'y')\n",
      "('B', 3, 'x')\n",
      "('B', 3, 'y')\n"
     ]
    }
   ],
   "source": [
    "for i in itertools.product([\"A\", \"B\"], range(4), [\"x\", \"y\"]):\n",
    "    print(i)"
   ]
  },
  {
   "cell_type": "markdown",
   "id": "b2fb5d4e",
   "metadata": {},
   "source": [
    "### More higher order functions"
   ]
  },
  {
   "cell_type": "code",
   "execution_count": 48,
   "id": "01ba79bd",
   "metadata": {},
   "outputs": [
    {
     "data": {
      "text/plain": [
       "[0, 1, 2, 3, 4, 5, 6, 7]"
      ]
     },
     "execution_count": 48,
     "metadata": {},
     "output_type": "execute_result"
    }
   ],
   "source": [
    "list(itertools.takewhile(lambda x: x < 8, list(range(20))))"
   ]
  },
  {
   "cell_type": "code",
   "execution_count": 49,
   "id": "49421203",
   "metadata": {},
   "outputs": [
    {
     "data": {
      "text/plain": [
       "[8, 9, 10, 11, 12, 13, 14, 15, 16, 17, 18, 19]"
      ]
     },
     "execution_count": 49,
     "metadata": {},
     "output_type": "execute_result"
    }
   ],
   "source": [
    "list(itertools.dropwhile(lambda x: x < 8, list(range(20))))"
   ]
  },
  {
   "cell_type": "markdown",
   "id": "2bac940b",
   "metadata": {},
   "source": [
    "### Selector filter"
   ]
  },
  {
   "cell_type": "markdown",
   "id": "77137627",
   "metadata": {},
   "source": [
    "> Make an iterator that filters elements from data returning only those that have a corresponding element in selectors that evaluates to True. "
   ]
  },
  {
   "cell_type": "code",
   "execution_count": 54,
   "id": "1fd8ccc1",
   "metadata": {},
   "outputs": [
    {
     "data": {
      "text/plain": [
       "['b', 'c']"
      ]
     },
     "execution_count": 54,
     "metadata": {},
     "output_type": "execute_result"
    }
   ],
   "source": [
    "list(itertools.compress(\"abc\", [0, 1, 1]))"
   ]
  },
  {
   "cell_type": "code",
   "execution_count": null,
   "id": "a38bdd03",
   "metadata": {},
   "outputs": [],
   "source": []
  }
 ],
 "metadata": {
  "kernelspec": {
   "display_name": "Python 3 (ipykernel)",
   "language": "python",
   "name": "python3"
  },
  "language_info": {
   "codemirror_mode": {
    "name": "ipython",
    "version": 3
   },
   "file_extension": ".py",
   "mimetype": "text/x-python",
   "name": "python",
   "nbconvert_exporter": "python",
   "pygments_lexer": "ipython3",
   "version": "3.11.0"
  }
 },
 "nbformat": 4,
 "nbformat_minor": 5
}
