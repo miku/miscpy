{
 "cells": [
  {
   "cell_type": "markdown",
   "id": "d11ffc6d",
   "metadata": {},
   "source": [
    "### Collections\n",
    "\n",
    "* namedtuple, dataclass\n",
    "* ordereddict\n",
    "* defaultdict\n",
    "* counter\n",
    "\n",
    "Sidenote: shelve\n",
    "\n",
    "----\n",
    "\n",
    "* UserDict\n",
    "* UserList\n",
    "* UserString"
   ]
  },
  {
   "cell_type": "code",
   "execution_count": null,
   "id": "a91753bf",
   "metadata": {},
   "outputs": [],
   "source": []
  }
 ],
 "metadata": {
  "kernelspec": {
   "display_name": "Python 3 (ipykernel)",
   "language": "python",
   "name": "python3"
  },
  "language_info": {
   "codemirror_mode": {
    "name": "ipython",
    "version": 3
   },
   "file_extension": ".py",
   "mimetype": "text/x-python",
   "name": "python",
   "nbconvert_exporter": "python",
   "pygments_lexer": "ipython3",
   "version": "3.11.0"
  }
 },
 "nbformat": 4,
 "nbformat_minor": 5
}
