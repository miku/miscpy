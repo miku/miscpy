{
 "cells": [
  {
   "cell_type": "markdown",
   "id": "9e0bc0a2",
   "metadata": {},
   "source": [
    "### PyTorch Repo Glance"
   ]
  },
  {
   "cell_type": "markdown",
   "id": "db3c1469",
   "metadata": {},
   "source": [
    "All numbers approximate, Repo checkout 2022-12-08, dc40b6d04320baf26b940225a65f40466ebf3664"
   ]
  },
  {
   "cell_type": "markdown",
   "id": "fe811362",
   "metadata": {},
   "source": [
    "* 3282 python files\n",
    "* 1084981 SLOC of python\n",
    "* 62000 \"def\" statements, 5300 classes\n",
    "* 6200 \"dunder methods\"\n",
    "\n",
    "Top 20:\n",
    "\n",
    "```\n",
    "   4586 def __init__\n",
    "    177 def __repr__\n",
    "    144 def __call__\n",
    "    127 def __exit__\n",
    "    117 def __iter__\n",
    "    116 def __enter__\n",
    "    110 def __str__\n",
    "    102 def __len__\n",
    "     89 def __new__\n",
    "     84 def __eq__\n",
    "     78 def __getitem__\n",
    "     69 def __setstate__\n",
    "     66 def __getattr__\n",
    "     50 def __getstate__\n",
    "     33 def __hash__\n",
    "     24 def __contains__\n",
    "     22 def __del__\n",
    "     19 def __setitem__\n",
    "     19 def __next__\n",
    "     19 def __deepcopy__\n",
    "```"
   ]
  },
  {
   "cell_type": "code",
   "execution_count": null,
   "id": "2fb5cff1",
   "metadata": {},
   "outputs": [],
   "source": []
  }
 ],
 "metadata": {
  "kernelspec": {
   "display_name": "Python 3 (ipykernel)",
   "language": "python",
   "name": "python3"
  },
  "language_info": {
   "codemirror_mode": {
    "name": "ipython",
    "version": 3
   },
   "file_extension": ".py",
   "mimetype": "text/x-python",
   "name": "python",
   "nbconvert_exporter": "python",
   "pygments_lexer": "ipython3",
   "version": "3.8.15"
  }
 },
 "nbformat": 4,
 "nbformat_minor": 5
}
