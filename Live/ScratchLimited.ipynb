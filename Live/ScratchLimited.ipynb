{
 "cells": [
  {
   "cell_type": "code",
   "execution_count": 1,
   "id": "2ef5b6bb",
   "metadata": {},
   "outputs": [],
   "source": [
    "class Limited:\n",
    "    _active = 0\n",
    "    \n",
    "    def __new__(cls):\n",
    "        inst = super().__new__(cls)        \n",
    "        if Limited._active >= 2:\n",
    "            raise RuntimeError(\"limit exceeded\")\n",
    "        Limited._active += 1\n",
    "        return inst\n",
    "    \n",
    "    def __init__(self):\n",
    "        print(f\"currently active: {Limited._active}\")\n",
    "        self.x = 1\n",
    "    \n",
    "    def __del__(self):\n",
    "        print(f\"__del__ {self}\")\n",
    "        Limited._active -= 1\n",
    "        print(f\"currently active: {Limited._active}\")\n"
   ]
  },
  {
   "cell_type": "code",
   "execution_count": 2,
   "id": "c1591077",
   "metadata": {},
   "outputs": [
    {
     "name": "stdout",
     "output_type": "stream",
     "text": [
      "currently active: 1\n"
     ]
    }
   ],
   "source": [
    "a = Limited()"
   ]
  },
  {
   "cell_type": "code",
   "execution_count": 3,
   "id": "f70413ba",
   "metadata": {},
   "outputs": [
    {
     "data": {
      "text/plain": [
       "<__main__.Limited at 0x7f0ab01a1bd0>"
      ]
     },
     "execution_count": 3,
     "metadata": {},
     "output_type": "execute_result"
    }
   ],
   "source": [
    "a"
   ]
  },
  {
   "cell_type": "code",
   "execution_count": 4,
   "id": "62d8ef1e",
   "metadata": {},
   "outputs": [
    {
     "name": "stdout",
     "output_type": "stream",
     "text": [
      "currently active: 2\n"
     ]
    }
   ],
   "source": [
    "b = Limited()"
   ]
  },
  {
   "cell_type": "code",
   "execution_count": 5,
   "id": "7365560d",
   "metadata": {},
   "outputs": [
    {
     "ename": "RuntimeError",
     "evalue": "limit exceeded",
     "output_type": "error",
     "traceback": [
      "\u001b[0;31m---------------------------------------------------------------------------\u001b[0m",
      "\u001b[0;31mRuntimeError\u001b[0m                              Traceback (most recent call last)",
      "Cell \u001b[0;32mIn[5], line 1\u001b[0m\n\u001b[0;32m----> 1\u001b[0m c \u001b[38;5;241m=\u001b[39m \u001b[43mLimited\u001b[49m\u001b[43m(\u001b[49m\u001b[43m)\u001b[49m\n",
      "Cell \u001b[0;32mIn[1], line 7\u001b[0m, in \u001b[0;36mLimited.__new__\u001b[0;34m(cls)\u001b[0m\n\u001b[1;32m      5\u001b[0m inst \u001b[38;5;241m=\u001b[39m \u001b[38;5;28msuper\u001b[39m()\u001b[38;5;241m.\u001b[39m\u001b[38;5;21m__new__\u001b[39m(\u001b[38;5;28mcls\u001b[39m)        \n\u001b[1;32m      6\u001b[0m \u001b[38;5;28;01mif\u001b[39;00m Limited\u001b[38;5;241m.\u001b[39m_active \u001b[38;5;241m>\u001b[39m\u001b[38;5;241m=\u001b[39m \u001b[38;5;241m2\u001b[39m:\n\u001b[0;32m----> 7\u001b[0m     \u001b[38;5;28;01mraise\u001b[39;00m \u001b[38;5;167;01mRuntimeError\u001b[39;00m(\u001b[38;5;124m\"\u001b[39m\u001b[38;5;124mlimit exceeded\u001b[39m\u001b[38;5;124m\"\u001b[39m)\n\u001b[1;32m      8\u001b[0m Limited\u001b[38;5;241m.\u001b[39m_active \u001b[38;5;241m+\u001b[39m\u001b[38;5;241m=\u001b[39m \u001b[38;5;241m1\u001b[39m\n\u001b[1;32m      9\u001b[0m \u001b[38;5;28;01mreturn\u001b[39;00m inst\n",
      "\u001b[0;31mRuntimeError\u001b[0m: limit exceeded"
     ]
    }
   ],
   "source": [
    "c = Limited()"
   ]
  },
  {
   "cell_type": "code",
   "execution_count": 6,
   "id": "b3355d61",
   "metadata": {},
   "outputs": [
    {
     "name": "stdout",
     "output_type": "stream",
     "text": [
      "__del__ <__main__.Limited object at 0x7f0ab01b1bd0>\n",
      "currently active: 1\n"
     ]
    }
   ],
   "source": [
    "b = None"
   ]
  },
  {
   "cell_type": "code",
   "execution_count": 7,
   "id": "6a815c06",
   "metadata": {},
   "outputs": [
    {
     "name": "stdout",
     "output_type": "stream",
     "text": [
      "currently active: 2\n"
     ]
    }
   ],
   "source": [
    "c = Limited()"
   ]
  },
  {
   "cell_type": "code",
   "execution_count": null,
   "id": "e657d8b2",
   "metadata": {},
   "outputs": [],
   "source": []
  }
 ],
 "metadata": {
  "kernelspec": {
   "display_name": "Python 3 (ipykernel)",
   "language": "python",
   "name": "python3"
  },
  "language_info": {
   "codemirror_mode": {
    "name": "ipython",
    "version": 3
   },
   "file_extension": ".py",
   "mimetype": "text/x-python",
   "name": "python",
   "nbconvert_exporter": "python",
   "pygments_lexer": "ipython3",
   "version": "3.11.0"
  }
 },
 "nbformat": 4,
 "nbformat_minor": 5
}
