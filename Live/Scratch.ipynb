{
 "cells": [
  {
   "cell_type": "markdown",
   "id": "a779e6ee",
   "metadata": {},
   "source": [
    "### Day 2"
   ]
  },
  {
   "cell_type": "markdown",
   "id": "5090cc62",
   "metadata": {},
   "source": [
    "> Descriptors\n",
    "\n",
    "Adjusting attribute access.\n",
    "\n",
    "* `__get__`, `__set__`, `__del__` "
   ]
  },
  {
   "cell_type": "code",
   "execution_count": 2,
   "id": "681c9644",
   "metadata": {},
   "outputs": [],
   "source": [
    "class A:\n",
    "    x = 10"
   ]
  },
  {
   "cell_type": "code",
   "execution_count": 3,
   "id": "805c791e",
   "metadata": {},
   "outputs": [],
   "source": [
    "a = A()"
   ]
  },
  {
   "cell_type": "code",
   "execution_count": 5,
   "id": "fd180197",
   "metadata": {},
   "outputs": [
    {
     "data": {
      "text/plain": [
       "10"
      ]
     },
     "execution_count": 5,
     "metadata": {},
     "output_type": "execute_result"
    }
   ],
   "source": [
    "a.x"
   ]
  },
  {
   "cell_type": "code",
   "execution_count": 7,
   "id": "87f26360",
   "metadata": {},
   "outputs": [
    {
     "data": {
      "text/plain": [
       "mappingproxy({'__module__': '__main__',\n",
       "              'x': 10,\n",
       "              '__dict__': <attribute '__dict__' of 'A' objects>,\n",
       "              '__weakref__': <attribute '__weakref__' of 'A' objects>,\n",
       "              '__doc__': None})"
      ]
     },
     "execution_count": 7,
     "metadata": {},
     "output_type": "execute_result"
    }
   ],
   "source": [
    "A.__dict__"
   ]
  },
  {
   "cell_type": "code",
   "execution_count": 8,
   "id": "38b65cc5",
   "metadata": {},
   "outputs": [
    {
     "data": {
      "text/plain": [
       "{}"
      ]
     },
     "execution_count": 8,
     "metadata": {},
     "output_type": "execute_result"
    }
   ],
   "source": [
    "a.__dict__"
   ]
  },
  {
   "cell_type": "code",
   "execution_count": 9,
   "id": "b3253a26",
   "metadata": {},
   "outputs": [],
   "source": [
    "class D:\n",
    "    def __get__(self, obj, objtype=None):\n",
    "        print(\"D.__get__\", obj)\n",
    "        return 10"
   ]
  },
  {
   "cell_type": "code",
   "execution_count": 10,
   "id": "6c56f67b",
   "metadata": {},
   "outputs": [],
   "source": [
    "class A:\n",
    "    x = D()"
   ]
  },
  {
   "cell_type": "code",
   "execution_count": 11,
   "id": "79713a3b",
   "metadata": {},
   "outputs": [],
   "source": [
    "a = A()"
   ]
  },
  {
   "cell_type": "code",
   "execution_count": 12,
   "id": "99115167",
   "metadata": {},
   "outputs": [
    {
     "name": "stdout",
     "output_type": "stream",
     "text": [
      "D.__get__ <__main__.A object at 0x7fc7c01828e0>\n"
     ]
    },
    {
     "data": {
      "text/plain": [
       "10"
      ]
     },
     "execution_count": 12,
     "metadata": {},
     "output_type": "execute_result"
    }
   ],
   "source": [
    "a.x"
   ]
  },
  {
   "cell_type": "code",
   "execution_count": 13,
   "id": "348a4e8a",
   "metadata": {},
   "outputs": [
    {
     "data": {
      "text/plain": [
       "mappingproxy({'__module__': '__main__',\n",
       "              'x': <__main__.D at 0x7fc7c0182a00>,\n",
       "              '__dict__': <attribute '__dict__' of 'A' objects>,\n",
       "              '__weakref__': <attribute '__weakref__' of 'A' objects>,\n",
       "              '__doc__': None})"
      ]
     },
     "execution_count": 13,
     "metadata": {},
     "output_type": "execute_result"
    }
   ],
   "source": [
    "A.__dict__"
   ]
  },
  {
   "cell_type": "code",
   "execution_count": 14,
   "id": "0cd9a194",
   "metadata": {},
   "outputs": [],
   "source": [
    "import logging\n",
    "logging.basicConfig(level=logging.INFO)"
   ]
  },
  {
   "cell_type": "code",
   "execution_count": 15,
   "id": "096b1a31",
   "metadata": {},
   "outputs": [],
   "source": [
    "class LoggedAgeAccess:\n",
    "    def __get__(self, obj, objtype=None):\n",
    "        value = obj._age\n",
    "        logging.info(\"accessing %r giving %r\", 'age', value)\n",
    "        return value\n",
    "        \n",
    "    def __set__(self, obj, value):\n",
    "        logging.info(\"updating %r to %r\", 'age', value)\n",
    "        obj._age = value\n",
    "\n",
    "class Person:\n",
    "    age = LoggedAgeAccess()\n",
    "    \n",
    "    def __init__(self, name, age):\n",
    "        self.name = name\n",
    "        self.age = age\n",
    "    \n",
    "    def birthday(self):\n",
    "        self.age += 1"
   ]
  },
  {
   "cell_type": "code",
   "execution_count": 16,
   "id": "a41086b8",
   "metadata": {},
   "outputs": [
    {
     "name": "stderr",
     "output_type": "stream",
     "text": [
      "INFO:root:updating 'age' to 35\n",
      "INFO:root:updating 'age' to 32\n"
     ]
    }
   ],
   "source": [
    "mary = Person(\"mary\", 35)\n",
    "dave = Person(\"dave\", 32)"
   ]
  },
  {
   "cell_type": "code",
   "execution_count": 17,
   "id": "d88bf4d6",
   "metadata": {},
   "outputs": [
    {
     "data": {
      "text/plain": [
       "{'name': 'mary', '_age': 35}"
      ]
     },
     "execution_count": 17,
     "metadata": {},
     "output_type": "execute_result"
    }
   ],
   "source": [
    "mary.__dict__"
   ]
  },
  {
   "cell_type": "code",
   "execution_count": 18,
   "id": "bf36c7cb",
   "metadata": {},
   "outputs": [
    {
     "name": "stderr",
     "output_type": "stream",
     "text": [
      "INFO:root:accessing 'age' giving 35\n",
      "INFO:root:updating 'age' to 36\n"
     ]
    }
   ],
   "source": [
    "mary.birthday()"
   ]
  },
  {
   "cell_type": "code",
   "execution_count": 26,
   "id": "e0b9d8bf",
   "metadata": {},
   "outputs": [
    {
     "name": "stdout",
     "output_type": "stream",
     "text": [
      "<class '__main__.Person'> age\n",
      "<class '__main__.Person'> name\n"
     ]
    }
   ],
   "source": [
    "class LoggedAccess:\n",
    "    \n",
    "    def __set_name__(self, owner, name): # pep 487\n",
    "        print(owner, name)\n",
    "        self.public_name = name\n",
    "        self.private_name = \"_\" + name\n",
    "    \n",
    "    def __get__(self, obj, objtype=None):\n",
    "        value = getattr(obj, self.private_name)\n",
    "        logging.info(\"accessing %r giving %r\", self.public_name, value)\n",
    "        return value\n",
    "        \n",
    "    def __set__(self, obj, value):\n",
    "        logging.info(\"updating %r to %r\", self.public_name, value)\n",
    "        setattr(obj, self.private_name, value)\n",
    "\n",
    "class Person:\n",
    "    age = LoggedAccess()\n",
    "    name = LoggedAccess()\n",
    "    \n",
    "    def __init__(self, name, age):\n",
    "        self.name = name\n",
    "        self.age = age\n",
    "    \n",
    "    def birthday(self):\n",
    "        self.age += 1"
   ]
  },
  {
   "cell_type": "code",
   "execution_count": 27,
   "id": "fb53d267",
   "metadata": {},
   "outputs": [
    {
     "name": "stderr",
     "output_type": "stream",
     "text": [
      "INFO:root:updating 'name' to 'mary'\n",
      "INFO:root:updating 'age' to 25\n",
      "INFO:root:updating 'name' to 'dave'\n",
      "INFO:root:updating 'age' to 30\n"
     ]
    }
   ],
   "source": [
    "mary = Person(\"mary\", 25)\n",
    "dave = Person(\"dave\", 30)"
   ]
  },
  {
   "cell_type": "code",
   "execution_count": 28,
   "id": "9b6da2c0",
   "metadata": {},
   "outputs": [
    {
     "data": {
      "text/plain": [
       "{'_name': 'mary', '_age': 25}"
      ]
     },
     "execution_count": 28,
     "metadata": {},
     "output_type": "execute_result"
    }
   ],
   "source": [
    "vars(mary)"
   ]
  },
  {
   "cell_type": "code",
   "execution_count": 29,
   "id": "28bc4620",
   "metadata": {},
   "outputs": [
    {
     "data": {
      "text/plain": [
       "{'_name': 'mary', '_age': 25}"
      ]
     },
     "execution_count": 29,
     "metadata": {},
     "output_type": "execute_result"
    }
   ],
   "source": [
    "mary.__dict__"
   ]
  },
  {
   "cell_type": "code",
   "execution_count": 30,
   "id": "5350473c",
   "metadata": {},
   "outputs": [],
   "source": [
    "# class A:\n",
    "#    x = CachedAttr(\"x\") "
   ]
  },
  {
   "cell_type": "code",
   "execution_count": 33,
   "id": "0f7e305c",
   "metadata": {},
   "outputs": [],
   "source": [
    "class LoggedAccess:\n",
    "    \n",
    "    def __set_name__(self, owner, name): # pep 487\n",
    "        print(owner, name)\n",
    "        self.public_name = name\n",
    "        self.private_name = \"_\" + name\n",
    "    \n",
    "    def __get__(self, obj, objtype=None):\n",
    "        value = getattr(obj, self.private_name)\n",
    "        logging.info(\"accessing %r giving %r\", self.public_name, value)\n",
    "        return value\n",
    "        \n",
    "    def __set__(self, obj, value):\n",
    "        logging.info(\"updating %r to %r\", self.public_name, value)\n",
    "        setattr(obj, self.private_name, value)\n"
   ]
  },
  {
   "cell_type": "markdown",
   "id": "da788893",
   "metadata": {},
   "source": [
    "**Task**: Descriptors, implementation\n",
    "\n",
    "* implement `IntRange` which would allow to verify constraints on an attribute\n",
    "* two possible constraints are \"min\" and \"max\" values for the integer value\n",
    "\n",
    "Any operation that would set the attribute to an invalid value should result in some exception (e.g. ValueError)."
   ]
  },
  {
   "cell_type": "code",
   "execution_count": 32,
   "id": "8dcddbf9",
   "metadata": {},
   "outputs": [
    {
     "ename": "NameError",
     "evalue": "name 'IntRange' is not defined",
     "output_type": "error",
     "traceback": [
      "\u001b[0;31m---------------------------------------------------------------------------\u001b[0m",
      "\u001b[0;31mNameError\u001b[0m                                 Traceback (most recent call last)",
      "Cell \u001b[0;32mIn[32], line 1\u001b[0m\n\u001b[0;32m----> 1\u001b[0m \u001b[38;5;28;01mclass\u001b[39;00m \u001b[38;5;21;01mRecord\u001b[39;00m:\n\u001b[1;32m      2\u001b[0m     x \u001b[38;5;241m=\u001b[39m IntRange(\u001b[38;5;28mmin\u001b[39m\u001b[38;5;241m=\u001b[39m\u001b[38;5;241m10\u001b[39m, \u001b[38;5;28mmax\u001b[39m\u001b[38;5;241m=\u001b[39m\u001b[38;5;241m20\u001b[39m)\n\u001b[1;32m      3\u001b[0m     y \u001b[38;5;241m=\u001b[39m IntRange(\u001b[38;5;28mmin\u001b[39m\u001b[38;5;241m=\u001b[39m\u001b[38;5;241m0\u001b[39m)\n",
      "Cell \u001b[0;32mIn[32], line 2\u001b[0m, in \u001b[0;36mRecord\u001b[0;34m()\u001b[0m\n\u001b[1;32m      1\u001b[0m \u001b[38;5;28;01mclass\u001b[39;00m \u001b[38;5;21;01mRecord\u001b[39;00m:\n\u001b[0;32m----> 2\u001b[0m     x \u001b[38;5;241m=\u001b[39m \u001b[43mIntRange\u001b[49m(\u001b[38;5;28mmin\u001b[39m\u001b[38;5;241m=\u001b[39m\u001b[38;5;241m10\u001b[39m, \u001b[38;5;28mmax\u001b[39m\u001b[38;5;241m=\u001b[39m\u001b[38;5;241m20\u001b[39m)\n\u001b[1;32m      3\u001b[0m     y \u001b[38;5;241m=\u001b[39m IntRange(\u001b[38;5;28mmin\u001b[39m\u001b[38;5;241m=\u001b[39m\u001b[38;5;241m0\u001b[39m)\n",
      "\u001b[0;31mNameError\u001b[0m: name 'IntRange' is not defined"
     ]
    }
   ],
   "source": [
    "class Record:\n",
    "    x = IntRange(min=10, max=20)\n",
    "    y = IntRange(min=0)\n",
    "    \n",
    "record = Record()\n",
    "record.x = 10 # ok\n",
    "record.y = -1 # fail with ValueError"
   ]
  },
  {
   "cell_type": "code",
   "execution_count": 34,
   "id": "fbed6148",
   "metadata": {},
   "outputs": [],
   "source": [
    "class IntRange:\n",
    "    \n",
    "    def __init__(self, min=None, max=None):\n",
    "        self.min = min\n",
    "        self.max = max\n",
    "    \n",
    "    def __set_name__(self, owner, name):\n",
    "        self.public_name = name\n",
    "        self.private_name = \"_\" + name\n",
    "    \n",
    "    def __get__(self, obj, objectype):\n",
    "        return getattr(obj, self.private_name)\n",
    "\n",
    "    def __set__(self, obj, value):\n",
    "        if self.min is not None:\n",
    "            if value < self.min:\n",
    "                raise ValueError(\"value too small\")\n",
    "        if self.max is not None:\n",
    "            if value > self.max:\n",
    "                raise ValueError(\"value too large\")\n",
    "        setattr(obj, self.private_name, value)"
   ]
  },
  {
   "cell_type": "code",
   "execution_count": 35,
   "id": "bd9aeb11",
   "metadata": {},
   "outputs": [],
   "source": [
    "class Record:\n",
    "    x = IntRange(min=10, max=20)\n",
    "    y = IntRange(min=0)"
   ]
  },
  {
   "cell_type": "code",
   "execution_count": 36,
   "id": "f6fcbfcb",
   "metadata": {},
   "outputs": [],
   "source": [
    "record = Record()"
   ]
  },
  {
   "cell_type": "code",
   "execution_count": 37,
   "id": "427d44aa",
   "metadata": {},
   "outputs": [],
   "source": [
    "record.x = 10"
   ]
  },
  {
   "cell_type": "code",
   "execution_count": 42,
   "id": "487939b2",
   "metadata": {},
   "outputs": [
    {
     "ename": "ValueError",
     "evalue": "value too large",
     "output_type": "error",
     "traceback": [
      "\u001b[0;31m---------------------------------------------------------------------------\u001b[0m",
      "\u001b[0;31mValueError\u001b[0m                                Traceback (most recent call last)",
      "Cell \u001b[0;32mIn[42], line 1\u001b[0m\n\u001b[0;32m----> 1\u001b[0m \u001b[43mrecord\u001b[49m\u001b[38;5;241;43m.\u001b[39;49m\u001b[43mx\u001b[49m \u001b[38;5;241m=\u001b[39m \u001b[38;5;241m100\u001b[39m\n",
      "Cell \u001b[0;32mIn[34], line 20\u001b[0m, in \u001b[0;36mIntRange.__set__\u001b[0;34m(self, obj, value)\u001b[0m\n\u001b[1;32m     18\u001b[0m \u001b[38;5;28;01mif\u001b[39;00m \u001b[38;5;28mself\u001b[39m\u001b[38;5;241m.\u001b[39mmax \u001b[38;5;129;01mis\u001b[39;00m \u001b[38;5;129;01mnot\u001b[39;00m \u001b[38;5;28;01mNone\u001b[39;00m:\n\u001b[1;32m     19\u001b[0m     \u001b[38;5;28;01mif\u001b[39;00m value \u001b[38;5;241m>\u001b[39m \u001b[38;5;28mself\u001b[39m\u001b[38;5;241m.\u001b[39mmax:\n\u001b[0;32m---> 20\u001b[0m         \u001b[38;5;28;01mraise\u001b[39;00m \u001b[38;5;167;01mValueError\u001b[39;00m(\u001b[38;5;124m\"\u001b[39m\u001b[38;5;124mvalue too large\u001b[39m\u001b[38;5;124m\"\u001b[39m)\n\u001b[1;32m     21\u001b[0m \u001b[38;5;28msetattr\u001b[39m(obj, \u001b[38;5;28mself\u001b[39m\u001b[38;5;241m.\u001b[39mprivate_name, value)\n",
      "\u001b[0;31mValueError\u001b[0m: value too large"
     ]
    }
   ],
   "source": [
    "record.x = 100"
   ]
  },
  {
   "cell_type": "code",
   "execution_count": 43,
   "id": "f6be3478",
   "metadata": {},
   "outputs": [],
   "source": [
    "from abc import ABC, abstractmethod\n",
    "\n",
    "class Validator(ABC):\n",
    "    \n",
    "    def __set_name__(self, owner, name):\n",
    "        self.private_name = \"_\" + name\n",
    "        \n",
    "    def __get__(self, obj, objtype=None):\n",
    "        return getattr(obj, self.private_name)\n",
    "    \n",
    "    def __set__(self, obj, value):\n",
    "        self.validate(value)\n",
    "        setattr(obj, self.private_name, value)\n",
    "        \n",
    "    @abstractmethod\n",
    "    def validate(self, value):\n",
    "        pass\n",
    "    "
   ]
  },
  {
   "cell_type": "code",
   "execution_count": 47,
   "id": "059a2a10",
   "metadata": {},
   "outputs": [],
   "source": [
    "class OneOf(Validator):\n",
    "    def __init__(self, *options):\n",
    "        self.options = set(options)\n",
    "    \n",
    "    def validate(self, value):\n",
    "        if value not in self.options:\n",
    "            raise ValueError(f\"expected {value} to be one of {self.options}\")"
   ]
  },
  {
   "cell_type": "code",
   "execution_count": 50,
   "id": "17028da8",
   "metadata": {},
   "outputs": [],
   "source": [
    "class Number(Validator):\n",
    "    def __init__(self, min=None, max=None):\n",
    "        self.min = min\n",
    "        self.max = max\n",
    "    \n",
    "    def validate(self, value):\n",
    "        if not isinstance(value, (int, float)):\n",
    "            raise TypeError(\"number required\")\n",
    "        if self.min is not None:\n",
    "            if value < self.min:\n",
    "                raise ValueError(\"value too small\")\n",
    "        if self.max is not None:\n",
    "            if value > self.max:\n",
    "                raise ValueError(\"value too large\")"
   ]
  },
  {
   "cell_type": "code",
   "execution_count": 53,
   "id": "973c0b9e",
   "metadata": {},
   "outputs": [],
   "source": [
    "class String(Validator):\n",
    "    def __init__(self, minsize=None, maxsize=None, predicate=None):\n",
    "        self.minsize = minsize\n",
    "        self.maxsize = maxsize\n",
    "        self.predicate = predicate # function\n",
    "    \n",
    "    def validate(self, value):\n",
    "        if not isinstance(value, str):\n",
    "            raise TypeError(\"string required\")\n",
    "        if self.minsize is not None and len(value) < self.minsize:\n",
    "            raise ValueError(\"too short\")\n",
    "        if self.maxsize is not None and len(value) > self.maxsize:\n",
    "            raise ValueError(\"too long\")\n",
    "        if self.predicate is not None and not self.predicate(value):\n",
    "            raise ValueError(\"predicate needs to evaluate to true\")\n",
    "        "
   ]
  },
  {
   "cell_type": "code",
   "execution_count": 54,
   "id": "12a73c3c",
   "metadata": {},
   "outputs": [],
   "source": [
    "class Component:\n",
    "    name = String(minsize=3, maxsize=10, predicate=str.isupper)\n",
    "    kind = OneOf(\"wood\", \"metal\", \"plastic\")\n",
    "    quantity = Number(min=0)\n",
    "    \n",
    "    def __init__(self, name, kind, quantity):\n",
    "        self.name = name\n",
    "        self.kind = kind\n",
    "        self.quantity = quantity"
   ]
  },
  {
   "cell_type": "code",
   "execution_count": 55,
   "id": "3ef8ebfe",
   "metadata": {},
   "outputs": [],
   "source": [
    "c = Component(\"PART123\", \"wood\", 10)"
   ]
  },
  {
   "cell_type": "code",
   "execution_count": 58,
   "id": "96e98a51",
   "metadata": {},
   "outputs": [
    {
     "ename": "ValueError",
     "evalue": "expected glas to be one of {'plastic', 'metal', 'wood'}",
     "output_type": "error",
     "traceback": [
      "\u001b[0;31m---------------------------------------------------------------------------\u001b[0m",
      "\u001b[0;31mValueError\u001b[0m                                Traceback (most recent call last)",
      "Cell \u001b[0;32mIn[58], line 1\u001b[0m\n\u001b[0;32m----> 1\u001b[0m d \u001b[38;5;241m=\u001b[39m \u001b[43mComponent\u001b[49m\u001b[43m(\u001b[49m\u001b[38;5;124;43m\"\u001b[39;49m\u001b[38;5;124;43mABC\u001b[39;49m\u001b[38;5;124;43m\"\u001b[39;49m\u001b[43m,\u001b[49m\u001b[43m \u001b[49m\u001b[38;5;124;43m\"\u001b[39;49m\u001b[38;5;124;43mglas\u001b[39;49m\u001b[38;5;124;43m\"\u001b[39;49m\u001b[43m,\u001b[49m\u001b[43m \u001b[49m\u001b[38;5;241;43m10\u001b[39;49m\u001b[43m)\u001b[49m\n",
      "Cell \u001b[0;32mIn[54], line 8\u001b[0m, in \u001b[0;36mComponent.__init__\u001b[0;34m(self, name, kind, quantity)\u001b[0m\n\u001b[1;32m      6\u001b[0m \u001b[38;5;28;01mdef\u001b[39;00m \u001b[38;5;21m__init__\u001b[39m(\u001b[38;5;28mself\u001b[39m, name, kind, quantity):\n\u001b[1;32m      7\u001b[0m     \u001b[38;5;28mself\u001b[39m\u001b[38;5;241m.\u001b[39mname \u001b[38;5;241m=\u001b[39m name\n\u001b[0;32m----> 8\u001b[0m     \u001b[38;5;28;43mself\u001b[39;49m\u001b[38;5;241;43m.\u001b[39;49m\u001b[43mkind\u001b[49m \u001b[38;5;241m=\u001b[39m kind\n\u001b[1;32m      9\u001b[0m     \u001b[38;5;28mself\u001b[39m\u001b[38;5;241m.\u001b[39mquantity \u001b[38;5;241m=\u001b[39m quantity\n",
      "Cell \u001b[0;32mIn[43], line 12\u001b[0m, in \u001b[0;36mValidator.__set__\u001b[0;34m(self, obj, value)\u001b[0m\n\u001b[1;32m     11\u001b[0m \u001b[38;5;28;01mdef\u001b[39;00m \u001b[38;5;21m__set__\u001b[39m(\u001b[38;5;28mself\u001b[39m, obj, value):\n\u001b[0;32m---> 12\u001b[0m     \u001b[38;5;28;43mself\u001b[39;49m\u001b[38;5;241;43m.\u001b[39;49m\u001b[43mvalidate\u001b[49m\u001b[43m(\u001b[49m\u001b[43mvalue\u001b[49m\u001b[43m)\u001b[49m\n\u001b[1;32m     13\u001b[0m     \u001b[38;5;28msetattr\u001b[39m(obj, \u001b[38;5;28mself\u001b[39m\u001b[38;5;241m.\u001b[39mprivate_name, value)\n",
      "Cell \u001b[0;32mIn[47], line 7\u001b[0m, in \u001b[0;36mOneOf.validate\u001b[0;34m(self, value)\u001b[0m\n\u001b[1;32m      5\u001b[0m \u001b[38;5;28;01mdef\u001b[39;00m \u001b[38;5;21mvalidate\u001b[39m(\u001b[38;5;28mself\u001b[39m, value):\n\u001b[1;32m      6\u001b[0m     \u001b[38;5;28;01mif\u001b[39;00m value \u001b[38;5;129;01mnot\u001b[39;00m \u001b[38;5;129;01min\u001b[39;00m \u001b[38;5;28mself\u001b[39m\u001b[38;5;241m.\u001b[39moptions:\n\u001b[0;32m----> 7\u001b[0m         \u001b[38;5;28;01mraise\u001b[39;00m \u001b[38;5;167;01mValueError\u001b[39;00m(\u001b[38;5;124mf\u001b[39m\u001b[38;5;124m\"\u001b[39m\u001b[38;5;124mexpected \u001b[39m\u001b[38;5;132;01m{\u001b[39;00mvalue\u001b[38;5;132;01m}\u001b[39;00m\u001b[38;5;124m to be one of \u001b[39m\u001b[38;5;132;01m{\u001b[39;00m\u001b[38;5;28mself\u001b[39m\u001b[38;5;241m.\u001b[39moptions\u001b[38;5;132;01m}\u001b[39;00m\u001b[38;5;124m\"\u001b[39m)\n",
      "\u001b[0;31mValueError\u001b[0m: expected glas to be one of {'plastic', 'metal', 'wood'}"
     ]
    }
   ],
   "source": [
    "d = Component(\"ABC\", \"glas\", 10)"
   ]
  },
  {
   "cell_type": "markdown",
   "id": "df5314c1",
   "metadata": {},
   "source": [
    "Metaclasses\n",
    "\n",
    "* class of a class\n",
    "\n",
    "Class definition\n",
    "\n",
    "* MRO entrie are resolved\n",
    "* find the metaclass\n",
    "* class namespace is prepared\n",
    "* class body is executed\n",
    "* the class object is created"
   ]
  },
  {
   "cell_type": "markdown",
   "id": "34816a2f",
   "metadata": {},
   "source": [
    "Use cases:\n",
    "    \n",
    "* avoid repetition with class decorators\n",
    "* validation of subclasses\n",
    "* registering subclasses\n",
    "* declarative GUI creation\n",
    "* django ORM (adding attributes)"
   ]
  },
  {
   "cell_type": "code",
   "execution_count": 61,
   "id": "25768987",
   "metadata": {},
   "outputs": [],
   "source": [
    "class Meta(type):\n",
    "    pass\n",
    "\n",
    "class MyClass(metaclass=Meta):\n",
    "    pass\n",
    "\n",
    "class MySubclass(MyClass):\n",
    "    pass"
   ]
  },
  {
   "cell_type": "code",
   "execution_count": 62,
   "id": "835a5cab",
   "metadata": {},
   "outputs": [
    {
     "data": {
      "text/plain": [
       "__main__.Meta"
      ]
     },
     "execution_count": 62,
     "metadata": {},
     "output_type": "execute_result"
    }
   ],
   "source": [
    "type(MySubclass)"
   ]
  },
  {
   "cell_type": "code",
   "execution_count": 66,
   "id": "1f416ba0",
   "metadata": {},
   "outputs": [],
   "source": [
    "C = type(\"C\", (), {\"x\": 1})"
   ]
  },
  {
   "cell_type": "code",
   "execution_count": 67,
   "id": "b392a327",
   "metadata": {},
   "outputs": [
    {
     "data": {
      "text/plain": [
       "type"
      ]
     },
     "execution_count": 67,
     "metadata": {},
     "output_type": "execute_result"
    }
   ],
   "source": [
    "type(C)"
   ]
  },
  {
   "cell_type": "code",
   "execution_count": 68,
   "id": "31924fdf",
   "metadata": {},
   "outputs": [
    {
     "data": {
      "text/plain": [
       "1"
      ]
     },
     "execution_count": 68,
     "metadata": {},
     "output_type": "execute_result"
    }
   ],
   "source": [
    "C.x"
   ]
  },
  {
   "cell_type": "code",
   "execution_count": 71,
   "id": "f45e1df0",
   "metadata": {},
   "outputs": [],
   "source": [
    "for i in range(10):\n",
    "    class A:\n",
    "        pass"
   ]
  },
  {
   "cell_type": "code",
   "execution_count": 74,
   "id": "398c0815",
   "metadata": {},
   "outputs": [],
   "source": [
    "class Meta(type):\n",
    "    def __new__(cls, name, bases, dct):\n",
    "        k = super().__new__(cls, name, bases, dct)\n",
    "        k.abc = 123\n",
    "        return k"
   ]
  },
  {
   "cell_type": "code",
   "execution_count": 75,
   "id": "8df5fb56",
   "metadata": {},
   "outputs": [],
   "source": [
    "class A(metaclass=Meta):\n",
    "    pass"
   ]
  },
  {
   "cell_type": "code",
   "execution_count": 76,
   "id": "06e1fc84",
   "metadata": {},
   "outputs": [
    {
     "data": {
      "text/plain": [
       "__main__.Meta"
      ]
     },
     "execution_count": 76,
     "metadata": {},
     "output_type": "execute_result"
    }
   ],
   "source": [
    "type(A)"
   ]
  },
  {
   "cell_type": "code",
   "execution_count": 77,
   "id": "11b64ca8",
   "metadata": {},
   "outputs": [
    {
     "data": {
      "text/plain": [
       "123"
      ]
     },
     "execution_count": 77,
     "metadata": {},
     "output_type": "execute_result"
    }
   ],
   "source": [
    "A.abc"
   ]
  },
  {
   "cell_type": "code",
   "execution_count": 80,
   "id": "c7013977",
   "metadata": {},
   "outputs": [],
   "source": [
    "class MyMeta(type):\n",
    "    def __new__(cls, name, bases, dct):\n",
    "        print(\"MyMeta.__new__\")\n",
    "        inst = super().__new__(cls, name, bases, dct)\n",
    "        return inst"
   ]
  },
  {
   "cell_type": "code",
   "execution_count": 81,
   "id": "7f5b5f8a",
   "metadata": {},
   "outputs": [
    {
     "name": "stdout",
     "output_type": "stream",
     "text": [
      "MyMeta.__new__\n"
     ]
    }
   ],
   "source": [
    "class A(metaclass=MyMeta):\n",
    "    \n",
    "    def __new__(cls, *arg, **kwargs):\n",
    "        print(\"A.__new__\")\n",
    "        return super().__new__(cls, *args, **kwargs)\n",
    "    \n",
    "    def __init__(self):\n",
    "        print(\"A.__init__\")"
   ]
  },
  {
   "cell_type": "code",
   "execution_count": 82,
   "id": "9897c9bd",
   "metadata": {},
   "outputs": [],
   "source": [
    "class DocsRequired(type):\n",
    "    def __new__(cls, name, bases, dct):\n",
    "        inst = super().__new__(cls, name, bases, dct)\n",
    "        if not inst.__doc__:\n",
    "            raise LookupError(\"docs missing\")\n",
    "        return inst"
   ]
  },
  {
   "cell_type": "code",
   "execution_count": 83,
   "id": "124c3473",
   "metadata": {},
   "outputs": [
    {
     "ename": "LookupError",
     "evalue": "docs missing",
     "output_type": "error",
     "traceback": [
      "\u001b[0;31m---------------------------------------------------------------------------\u001b[0m",
      "\u001b[0;31mLookupError\u001b[0m                               Traceback (most recent call last)",
      "Cell \u001b[0;32mIn[83], line 1\u001b[0m\n\u001b[0;32m----> 1\u001b[0m \u001b[38;5;28;01mclass\u001b[39;00m \u001b[38;5;21;01mA\u001b[39;00m(metaclass\u001b[38;5;241m=\u001b[39mDocsRequired):\n\u001b[1;32m      2\u001b[0m     \u001b[38;5;28;01mpass\u001b[39;00m\n",
      "Cell \u001b[0;32mIn[82], line 5\u001b[0m, in \u001b[0;36mDocsRequired.__new__\u001b[0;34m(cls, name, bases, dct)\u001b[0m\n\u001b[1;32m      3\u001b[0m inst \u001b[38;5;241m=\u001b[39m \u001b[38;5;28msuper\u001b[39m()\u001b[38;5;241m.\u001b[39m\u001b[38;5;21m__new__\u001b[39m(\u001b[38;5;28mcls\u001b[39m, name, bases, dct)\n\u001b[1;32m      4\u001b[0m \u001b[38;5;28;01mif\u001b[39;00m \u001b[38;5;129;01mnot\u001b[39;00m inst\u001b[38;5;241m.\u001b[39m\u001b[38;5;18m__doc__\u001b[39m:\n\u001b[0;32m----> 5\u001b[0m     \u001b[38;5;28;01mraise\u001b[39;00m \u001b[38;5;167;01mLookupError\u001b[39;00m(\u001b[38;5;124m\"\u001b[39m\u001b[38;5;124mdocs missing\u001b[39m\u001b[38;5;124m\"\u001b[39m)\n\u001b[1;32m      6\u001b[0m \u001b[38;5;28;01mreturn\u001b[39;00m inst\n",
      "\u001b[0;31mLookupError\u001b[0m: docs missing"
     ]
    }
   ],
   "source": [
    "class A(metaclass=DocsRequired):\n",
    "    pass"
   ]
  },
  {
   "cell_type": "code",
   "execution_count": 84,
   "id": "44ef0505",
   "metadata": {},
   "outputs": [],
   "source": [
    "class A(metaclass=DocsRequired):\n",
    "    \"\"\"\n",
    "    Ok.\n",
    "    \"\"\""
   ]
  },
  {
   "cell_type": "code",
   "execution_count": 91,
   "id": "77eeade4",
   "metadata": {},
   "outputs": [],
   "source": [
    "class Final(type):\n",
    "    def __init__(cls, name, bases, dct):\n",
    "        for b in bases:\n",
    "            if isinstance(b, Final):\n",
    "                raise RuntimeError(\"cannot extend class\")"
   ]
  },
  {
   "cell_type": "code",
   "execution_count": 92,
   "id": "3b835897",
   "metadata": {},
   "outputs": [],
   "source": [
    "class A(metaclass=Final):\n",
    "    pass"
   ]
  },
  {
   "cell_type": "code",
   "execution_count": 93,
   "id": "16203be7",
   "metadata": {},
   "outputs": [
    {
     "ename": "RuntimeError",
     "evalue": "cannot extend class",
     "output_type": "error",
     "traceback": [
      "\u001b[0;31m---------------------------------------------------------------------------\u001b[0m",
      "\u001b[0;31mRuntimeError\u001b[0m                              Traceback (most recent call last)",
      "Cell \u001b[0;32mIn[93], line 1\u001b[0m\n\u001b[0;32m----> 1\u001b[0m \u001b[38;5;28;01mclass\u001b[39;00m \u001b[38;5;21;01mB\u001b[39;00m(A):\n\u001b[1;32m      2\u001b[0m     \u001b[38;5;28;01mpass\u001b[39;00m\n",
      "Cell \u001b[0;32mIn[91], line 5\u001b[0m, in \u001b[0;36mFinal.__init__\u001b[0;34m(cls, name, bases, dct)\u001b[0m\n\u001b[1;32m      3\u001b[0m \u001b[38;5;28;01mfor\u001b[39;00m b \u001b[38;5;129;01min\u001b[39;00m bases:\n\u001b[1;32m      4\u001b[0m     \u001b[38;5;28;01mif\u001b[39;00m \u001b[38;5;28misinstance\u001b[39m(b, Final):\n\u001b[0;32m----> 5\u001b[0m         \u001b[38;5;28;01mraise\u001b[39;00m \u001b[38;5;167;01mRuntimeError\u001b[39;00m(\u001b[38;5;124m\"\u001b[39m\u001b[38;5;124mcannot extend class\u001b[39m\u001b[38;5;124m\"\u001b[39m)\n",
      "\u001b[0;31mRuntimeError\u001b[0m: cannot extend class"
     ]
    }
   ],
   "source": [
    "class B(A):\n",
    "    pass"
   ]
  },
  {
   "cell_type": "markdown",
   "id": "78722f0a",
   "metadata": {},
   "source": [
    "## Iterators\n",
    "\n",
    "* iterable -> `__iter__`\n",
    "* iterator -> `__next__`"
   ]
  },
  {
   "cell_type": "markdown",
   "id": "62b942c3",
   "metadata": {},
   "source": [
    "* builtin function: `iter` "
   ]
  },
  {
   "cell_type": "code",
   "execution_count": 95,
   "id": "937a9ce0",
   "metadata": {},
   "outputs": [],
   "source": [
    "s = [1, 2, 3]"
   ]
  },
  {
   "cell_type": "code",
   "execution_count": 97,
   "id": "75e39e27",
   "metadata": {},
   "outputs": [],
   "source": [
    "i = iter(s)"
   ]
  },
  {
   "cell_type": "code",
   "execution_count": 98,
   "id": "fc7233b5",
   "metadata": {},
   "outputs": [
    {
     "data": {
      "text/plain": [
       "<list_iterator at 0x7fc79f39b310>"
      ]
     },
     "execution_count": 98,
     "metadata": {},
     "output_type": "execute_result"
    }
   ],
   "source": [
    "i"
   ]
  },
  {
   "cell_type": "code",
   "execution_count": 100,
   "id": "34074a4e",
   "metadata": {},
   "outputs": [
    {
     "data": {
      "text/plain": [
       "<list_iterator at 0x7fc7b83dbf70>"
      ]
     },
     "execution_count": 100,
     "metadata": {},
     "output_type": "execute_result"
    }
   ],
   "source": [
    "s.__iter__()"
   ]
  },
  {
   "cell_type": "code",
   "execution_count": 101,
   "id": "4d9bcaf2",
   "metadata": {},
   "outputs": [
    {
     "data": {
      "text/plain": [
       "<list_iterator at 0x7fc79f39b310>"
      ]
     },
     "execution_count": 101,
     "metadata": {},
     "output_type": "execute_result"
    }
   ],
   "source": [
    "i"
   ]
  },
  {
   "cell_type": "code",
   "execution_count": 102,
   "id": "88e7adcd",
   "metadata": {},
   "outputs": [
    {
     "data": {
      "text/plain": [
       "<method-wrapper '__next__' of list_iterator object at 0x7fc79f39b310>"
      ]
     },
     "execution_count": 102,
     "metadata": {},
     "output_type": "execute_result"
    }
   ],
   "source": [
    "i.__next__"
   ]
  },
  {
   "cell_type": "code",
   "execution_count": 103,
   "id": "6512811d",
   "metadata": {},
   "outputs": [
    {
     "name": "stdout",
     "output_type": "stream",
     "text": [
      "1\n",
      "2\n",
      "3\n"
     ]
    }
   ],
   "source": [
    "while True:\n",
    "    try:\n",
    "        print(i.__next__())\n",
    "    except StopIteration:\n",
    "        break"
   ]
  },
  {
   "cell_type": "code",
   "execution_count": 104,
   "id": "bd25947f",
   "metadata": {},
   "outputs": [
    {
     "name": "stdout",
     "output_type": "stream",
     "text": [
      "a\n",
      "b\n",
      "c\n"
     ]
    }
   ],
   "source": [
    "for c in \"abc\":\n",
    "    print(c)"
   ]
  },
  {
   "cell_type": "code",
   "execution_count": 105,
   "id": "9dd12536",
   "metadata": {},
   "outputs": [
    {
     "name": "stdout",
     "output_type": "stream",
     "text": [
      "Scratch1.ipynb\tScratch.ipynb  ScratchLimited.ipynb\r\n"
     ]
    }
   ],
   "source": [
    "!ls"
   ]
  },
  {
   "cell_type": "code",
   "execution_count": 107,
   "id": "f128a1dc",
   "metadata": {},
   "outputs": [],
   "source": [
    "with open(\"Scratch.ipynb\") as f:\n",
    "    for line in f:\n",
    "        pass"
   ]
  },
  {
   "cell_type": "code",
   "execution_count": 117,
   "id": "eff7f0c0",
   "metadata": {},
   "outputs": [],
   "source": [
    "class A:\n",
    "    \n",
    "    def __init__(self):\n",
    "        self.i = 0\n",
    "        \n",
    "    def __iter__(self):\n",
    "        self.i = 0\n",
    "        return self\n",
    "    \n",
    "    def __next__(self):\n",
    "        self.i += 1\n",
    "        if self.i > 3:\n",
    "            raise StopIteration\n",
    "        return self.i"
   ]
  },
  {
   "cell_type": "code",
   "execution_count": 125,
   "id": "81684244",
   "metadata": {},
   "outputs": [],
   "source": [
    "a = A()"
   ]
  },
  {
   "cell_type": "code",
   "execution_count": 126,
   "id": "8b512e37",
   "metadata": {},
   "outputs": [
    {
     "data": {
      "text/plain": [
       "<__main__.A at 0x7fc79f696160>"
      ]
     },
     "execution_count": 126,
     "metadata": {},
     "output_type": "execute_result"
    }
   ],
   "source": [
    "a"
   ]
  },
  {
   "cell_type": "code",
   "execution_count": 127,
   "id": "c4646e77",
   "metadata": {},
   "outputs": [
    {
     "name": "stdout",
     "output_type": "stream",
     "text": [
      "1\n",
      "2\n",
      "3\n"
     ]
    }
   ],
   "source": [
    "for i in a:\n",
    "    print(i)"
   ]
  },
  {
   "cell_type": "code",
   "execution_count": 128,
   "id": "3ced354a",
   "metadata": {},
   "outputs": [],
   "source": [
    "i = iter(a)"
   ]
  },
  {
   "cell_type": "code",
   "execution_count": 129,
   "id": "0930b179",
   "metadata": {},
   "outputs": [
    {
     "name": "stdout",
     "output_type": "stream",
     "text": [
      "1\n",
      "2\n",
      "3\n"
     ]
    }
   ],
   "source": [
    "while True:\n",
    "    try:\n",
    "        print(i.__next__())\n",
    "    except StopIteration:\n",
    "        break"
   ]
  },
  {
   "cell_type": "markdown",
   "id": "f7d47ed7",
   "metadata": {},
   "source": [
    "infinite iterator"
   ]
  },
  {
   "cell_type": "code",
   "execution_count": 130,
   "id": "a29e67d3",
   "metadata": {},
   "outputs": [],
   "source": [
    "import random"
   ]
  },
  {
   "cell_type": "code",
   "execution_count": 131,
   "id": "fb4b048b",
   "metadata": {},
   "outputs": [],
   "source": [
    "class RandomNumbers:\n",
    "    \n",
    "    def __iter__(self):\n",
    "        return self\n",
    "    \n",
    "    def __next__(self):\n",
    "        return random.randint(0, 100)"
   ]
  },
  {
   "cell_type": "code",
   "execution_count": 132,
   "id": "c385d9b5",
   "metadata": {},
   "outputs": [],
   "source": [
    "rn = RandomNumbers()"
   ]
  },
  {
   "cell_type": "code",
   "execution_count": 134,
   "id": "2a8af782",
   "metadata": {},
   "outputs": [],
   "source": [
    "# for i in rn:\n",
    "#     print(i)"
   ]
  },
  {
   "cell_type": "code",
   "execution_count": 135,
   "id": "a5cbfa86",
   "metadata": {},
   "outputs": [],
   "source": [
    "import itertools"
   ]
  },
  {
   "cell_type": "code",
   "execution_count": 137,
   "id": "6d99b83c",
   "metadata": {},
   "outputs": [
    {
     "data": {
      "text/plain": [
       "[79, 31]"
      ]
     },
     "execution_count": 137,
     "metadata": {},
     "output_type": "execute_result"
    }
   ],
   "source": [
    "list(itertools.islice(rn, 20, 22))"
   ]
  },
  {
   "cell_type": "markdown",
   "id": "94b746d6",
   "metadata": {},
   "source": [
    "**1** \"Todolist\"\n",
    "\n",
    "Implement a basic TODO-List class\n",
    "\n",
    "* implement a separate Item class\n",
    "* each Item has a name and done attribute\n",
    "* a list of Items should be sorted so that items that are \"done\" come last\n",
    "\n",
    "Example iteraction:\n",
    "\n",
    "```python\n",
    "t = TodoList()\n",
    "t.items.append(Item(\"send notification\", done=True))\n",
    "t.items.append(Item(\"test sirens\"))\n",
    "t.items.append(Item(\"test sms\"))\n",
    "\n",
    "print(t)\n",
    "\n",
    "for task in sorted(t):\n",
    "    print(task)\n",
    "\n",
    "# <TodoList with 3 items>\n",
    "# Item test sirens done=False\n",
    "# Item test sms done=False\n",
    "# Item send notification done=True\n",
    "```"
   ]
  },
  {
   "cell_type": "code",
   "execution_count": 139,
   "id": "66bdf165",
   "metadata": {},
   "outputs": [],
   "source": [
    "class Item:\n",
    "    \n",
    "    def __str__(self):\n",
    "        pass\n",
    "\n",
    "class TodoList:\n",
    "    \n",
    "    def __str__(self):\n",
    "        pass"
   ]
  },
  {
   "cell_type": "code",
   "execution_count": null,
   "id": "436ec35e",
   "metadata": {},
   "outputs": [],
   "source": []
  }
 ],
 "metadata": {
  "kernelspec": {
   "display_name": "Python 3 (ipykernel)",
   "language": "python",
   "name": "python3"
  },
  "language_info": {
   "codemirror_mode": {
    "name": "ipython",
    "version": 3
   },
   "file_extension": ".py",
   "mimetype": "text/x-python",
   "name": "python",
   "nbconvert_exporter": "python",
   "pygments_lexer": "ipython3",
   "version": "3.8.15"
  }
 },
 "nbformat": 4,
 "nbformat_minor": 5
}
