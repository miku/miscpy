{
 "cells": [
  {
   "cell_type": "markdown",
   "id": "e60b9bd5",
   "metadata": {},
   "source": [
    "### Welcome!"
   ]
  },
  {
   "cell_type": "markdown",
   "id": "11c10e57",
   "metadata": {},
   "source": [
    "### Flow control"
   ]
  },
  {
   "cell_type": "markdown",
   "id": "f4faae7c",
   "metadata": {},
   "source": [
    "* EAFP - as opposed to LBYL"
   ]
  },
  {
   "cell_type": "markdown",
   "id": "81546d4a",
   "metadata": {},
   "source": [
    "How to convert a string to a float?"
   ]
  },
  {
   "cell_type": "markdown",
   "id": "147d2b1a",
   "metadata": {},
   "source": [
    "* use regular expressions"
   ]
  },
  {
   "cell_type": "code",
   "execution_count": 1,
   "id": "0c1ec5df",
   "metadata": {},
   "outputs": [],
   "source": [
    "user_input = \"hello 1_200e-2\""
   ]
  },
  {
   "cell_type": "code",
   "execution_count": 2,
   "id": "3b4bd3ed",
   "metadata": {},
   "outputs": [
    {
     "name": "stdout",
     "output_type": "stream",
     "text": [
      "12.0\n"
     ]
    }
   ],
   "source": [
    "for token in user_input.split():\n",
    "    try:\n",
    "        print(float(token))\n",
    "    except ValueError:\n",
    "        pass"
   ]
  },
  {
   "cell_type": "markdown",
   "id": "9ee00b19",
   "metadata": {},
   "source": [
    "* dictionary access often uses EAFP"
   ]
  },
  {
   "cell_type": "code",
   "execution_count": 3,
   "id": "86a87035",
   "metadata": {},
   "outputs": [
    {
     "name": "stdout",
     "output_type": "stream",
     "text": [
      "some default\n"
     ]
    }
   ],
   "source": [
    "data = {\"a\": 123}\n",
    "try:\n",
    "    v = data[\"b\"]\n",
    "except KeyError as exc:\n",
    "    # do something exc, re-raise, ...\n",
    "    v = \"some default\"\n",
    "print(v)"
   ]
  },
  {
   "cell_type": "code",
   "execution_count": 4,
   "id": "10ae59c9",
   "metadata": {},
   "outputs": [
    {
     "data": {
      "text/plain": [
       "'some default'"
      ]
     },
     "execution_count": 4,
     "metadata": {},
     "output_type": "execute_result"
    }
   ],
   "source": [
    "data.get(\"b\", \"some default\") # collections ..."
   ]
  },
  {
   "cell_type": "code",
   "execution_count": 5,
   "id": "3faf25f9",
   "metadata": {},
   "outputs": [
    {
     "name": "stdout",
     "output_type": "stream",
     "text": [
      "no number divisible by 3 found\n"
     ]
    }
   ],
   "source": [
    "found = False\n",
    "for i in range(1, 10, 3):\n",
    "    if i % 3 == 0:\n",
    "        found = True\n",
    "        break\n",
    "\n",
    "if not found:\n",
    "    print(\"no number divisible by 3 found\")"
   ]
  },
  {
   "cell_type": "markdown",
   "id": "78a1d2fc",
   "metadata": {},
   "source": [
    "* use any to check for predicate"
   ]
  },
  {
   "cell_type": "code",
   "execution_count": 6,
   "id": "98369288",
   "metadata": {},
   "outputs": [
    {
     "name": "stdout",
     "output_type": "stream",
     "text": [
      "no number divisible by 3 found\n"
     ]
    }
   ],
   "source": [
    "for i in range(1, 10, 3):\n",
    "    if i % 3 == 0:\n",
    "        break\n",
    "else:\n",
    "    print(\"no number divisible by 3 found\")"
   ]
  },
  {
   "cell_type": "code",
   "execution_count": 7,
   "id": "d3d935e5",
   "metadata": {},
   "outputs": [
    {
     "name": "stdout",
     "output_type": "stream",
     "text": [
      "The Zen of Python, by Tim Peters\n",
      "\n",
      "Beautiful is better than ugly.\n",
      "Explicit is better than implicit.\n",
      "Simple is better than complex.\n",
      "Complex is better than complicated.\n",
      "Flat is better than nested.\n",
      "Sparse is better than dense.\n",
      "Readability counts.\n",
      "Special cases aren't special enough to break the rules.\n",
      "Although practicality beats purity.\n",
      "Errors should never pass silently.\n",
      "Unless explicitly silenced.\n",
      "In the face of ambiguity, refuse the temptation to guess.\n",
      "There should be one-- and preferably only one --obvious way to do it.\n",
      "Although that way may not be obvious at first unless you're Dutch.\n",
      "Now is better than never.\n",
      "Although never is often better than *right* now.\n",
      "If the implementation is hard to explain, it's a bad idea.\n",
      "If the implementation is easy to explain, it may be a good idea.\n",
      "Namespaces are one honking great idea -- let's do more of those!\n"
     ]
    }
   ],
   "source": [
    "import this"
   ]
  },
  {
   "cell_type": "markdown",
   "id": "35d1fa6b",
   "metadata": {},
   "source": [
    "### Match statement\n"
   ]
  },
  {
   "cell_type": "markdown",
   "id": "a5209230",
   "metadata": {},
   "source": [
    "* match statement -- PEP 636 \"structural pattern matching\""
   ]
  },
  {
   "cell_type": "code",
   "execution_count": 8,
   "id": "b64edd13",
   "metadata": {},
   "outputs": [
    {
     "name": "stdout",
     "output_type": "stream",
     "text": [
      "Python 3.11.0\r\n"
     ]
    }
   ],
   "source": [
    "!python --version"
   ]
  },
  {
   "cell_type": "code",
   "execution_count": 9,
   "id": "803af9b5",
   "metadata": {},
   "outputs": [],
   "source": [
    "match None:\n",
    "    case _:\n",
    "        pass"
   ]
  },
  {
   "cell_type": "code",
   "execution_count": 10,
   "id": "84386cc4",
   "metadata": {},
   "outputs": [],
   "source": [
    "def status_text(status=200):\n",
    "    match status:\n",
    "        case 200:\n",
    "            return \"OK\"\n",
    "        case 300:\n",
    "            return \"Multiple Choices\"\n",
    "        \n",
    "    raise ValueError(f\"invalid {status}\")"
   ]
  },
  {
   "cell_type": "code",
   "execution_count": 11,
   "id": "39392513",
   "metadata": {},
   "outputs": [
    {
     "data": {
      "text/plain": [
       "'Multiple Choices'"
      ]
     },
     "execution_count": 11,
     "metadata": {},
     "output_type": "execute_result"
    }
   ],
   "source": [
    "status_text(300)"
   ]
  },
  {
   "cell_type": "markdown",
   "id": "1f38a9ec",
   "metadata": {},
   "source": [
    "Alternative values"
   ]
  },
  {
   "cell_type": "code",
   "execution_count": 12,
   "id": "b65769e7",
   "metadata": {},
   "outputs": [],
   "source": [
    "def status_text(status=200):\n",
    "    match status:\n",
    "        case 200:\n",
    "            return \"OK\"\n",
    "        case 401 | 472:\n",
    "            return \"Auth error\"\n",
    "        case 300:\n",
    "            return \"Multiple Choices\"\n",
    "        \n",
    "    raise ValueError(f\"invalid {status}\")"
   ]
  },
  {
   "cell_type": "code",
   "execution_count": 13,
   "id": "7778fb39",
   "metadata": {},
   "outputs": [
    {
     "data": {
      "text/plain": [
       "'Auth error'"
      ]
     },
     "execution_count": 13,
     "metadata": {},
     "output_type": "execute_result"
    }
   ],
   "source": [
    "status_text(472)"
   ]
  },
  {
   "cell_type": "markdown",
   "id": "b94247e3",
   "metadata": {},
   "source": [
    "Text adventure"
   ]
  },
  {
   "cell_type": "code",
   "execution_count": 14,
   "id": "53651ed1",
   "metadata": {},
   "outputs": [],
   "source": [
    "def parse_command(s):\n",
    "    match s.split():\n",
    "        case [command]:\n",
    "            print(f\"ok, executing {command}\")\n",
    "        case [\"go\", direction]:\n",
    "            print(f\"going {direction}\")\n",
    "        case _:\n",
    "            print(\"unknown command\")"
   ]
  },
  {
   "cell_type": "code",
   "execution_count": 15,
   "id": "7a8bf1d2",
   "metadata": {},
   "outputs": [
    {
     "name": "stdout",
     "output_type": "stream",
     "text": [
      "unknown command\n"
     ]
    }
   ],
   "source": [
    "parse_command(\"drop shield\")"
   ]
  },
  {
   "cell_type": "code",
   "execution_count": 16,
   "id": "000607b8",
   "metadata": {},
   "outputs": [
    {
     "name": "stdout",
     "output_type": "stream",
     "text": [
      "going north\n"
     ]
    }
   ],
   "source": [
    "parse_command(\"go north\")"
   ]
  },
  {
   "cell_type": "code",
   "execution_count": 17,
   "id": "1e7b8ec8",
   "metadata": {},
   "outputs": [
    {
     "name": "stdout",
     "output_type": "stream",
     "text": [
      "ok, executing walk\n"
     ]
    }
   ],
   "source": [
    "parse_command(\"walk\")"
   ]
  },
  {
   "cell_type": "markdown",
   "id": "36724582",
   "metadata": {},
   "source": [
    "Subpatterns\n",
    "\n"
   ]
  },
  {
   "cell_type": "code",
   "execution_count": 18,
   "id": "cacadf13",
   "metadata": {},
   "outputs": [],
   "source": [
    "def parse_command(s):\n",
    "    match s.split():\n",
    "        case [command]:\n",
    "            print(f\"ok, executing {command}\")\n",
    "        case [\"go\", direction]:\n",
    "            print(f\"going {direction}\")\n",
    "        case [\"drop\", *items]:\n",
    "            print(f\"dropping {len(items)} items: {items}\")\n",
    "        case _:\n",
    "            print(\"unknown command\")"
   ]
  },
  {
   "cell_type": "code",
   "execution_count": 19,
   "id": "fec21bd2",
   "metadata": {},
   "outputs": [
    {
     "name": "stdout",
     "output_type": "stream",
     "text": [
      "dropping 2 items: ['shield', 'axe']\n"
     ]
    }
   ],
   "source": [
    "parse_command(\"drop shield axe\")"
   ]
  },
  {
   "cell_type": "markdown",
   "id": "8c555c24",
   "metadata": {},
   "source": [
    "Subpatterns"
   ]
  },
  {
   "cell_type": "code",
   "execution_count": 20,
   "id": "19d780d7",
   "metadata": {},
   "outputs": [],
   "source": [
    "def parse_command(s):\n",
    "    match s.split():\n",
    "        case [command]:\n",
    "            print(f\"ok, executing {command}\")\n",
    "        case [\"go\", (\"north\" | \"south\") as direction]:\n",
    "            print(f\"going {direction}\")\n",
    "        case [\"drop\", *items]:\n",
    "            print(f\"dropping {len(items)} items: {items}\")\n",
    "        case _:\n",
    "            print(\"unknown command\")"
   ]
  },
  {
   "cell_type": "code",
   "execution_count": 21,
   "id": "f66c3e23",
   "metadata": {},
   "outputs": [
    {
     "name": "stdout",
     "output_type": "stream",
     "text": [
      "unknown command\n"
     ]
    }
   ],
   "source": [
    "parse_command(\"go west\")"
   ]
  },
  {
   "cell_type": "code",
   "execution_count": 22,
   "id": "48d4e437",
   "metadata": {},
   "outputs": [
    {
     "name": "stdout",
     "output_type": "stream",
     "text": [
      "going south\n"
     ]
    }
   ],
   "source": [
    "parse_command(\"go south\")"
   ]
  },
  {
   "cell_type": "code",
   "execution_count": 23,
   "id": "7b922f1a",
   "metadata": {},
   "outputs": [],
   "source": [
    "valid_directions = set([\"north\", \"south\", \"west\", \"east\"])"
   ]
  },
  {
   "cell_type": "code",
   "execution_count": 24,
   "id": "9da25e2d",
   "metadata": {},
   "outputs": [],
   "source": [
    "def parse_command(s):\n",
    "    match s.split():\n",
    "        case [command]:\n",
    "            print(f\"ok, executing {command}\")\n",
    "        case [\"go\", direction] if direction in valid_directions:\n",
    "            print(f\"going {direction}\")\n",
    "        case [\"drop\", *items]:\n",
    "            print(f\"dropping {len(items)} items: {items}\")\n",
    "        case _:\n",
    "            print(\"unknown command\")"
   ]
  },
  {
   "cell_type": "code",
   "execution_count": 25,
   "id": "fd317db5",
   "metadata": {},
   "outputs": [
    {
     "name": "stdout",
     "output_type": "stream",
     "text": [
      "going west\n"
     ]
    }
   ],
   "source": [
    "parse_command(\"go west\")"
   ]
  },
  {
   "cell_type": "markdown",
   "id": "8fdd86fc",
   "metadata": {},
   "source": [
    "Matching object"
   ]
  },
  {
   "cell_type": "code",
   "execution_count": 26,
   "id": "f7889613",
   "metadata": {},
   "outputs": [],
   "source": [
    "import datetime"
   ]
  },
  {
   "cell_type": "code",
   "execution_count": 27,
   "id": "08cd8745",
   "metadata": {},
   "outputs": [],
   "source": [
    "def action_for_date(date):\n",
    "    match date:\n",
    "        case datetime.date(year=2000):\n",
    "            print(\"archive\")\n",
    "        case datetime.date(year=2384):\n",
    "            print(\"join starfleet\")\n",
    "        case _:\n",
    "            print(\"go out and play\")"
   ]
  },
  {
   "cell_type": "code",
   "execution_count": 28,
   "id": "5fd6046e",
   "metadata": {},
   "outputs": [
    {
     "name": "stdout",
     "output_type": "stream",
     "text": [
      "go out and play\n"
     ]
    }
   ],
   "source": [
    "action_for_date(datetime.date(2100, 1, 1))"
   ]
  },
  {
   "cell_type": "markdown",
   "id": "2b2a5a85",
   "metadata": {},
   "source": [
    "Matching dictionaries"
   ]
  },
  {
   "cell_type": "code",
   "execution_count": 29,
   "id": "5a1c86f0",
   "metadata": {},
   "outputs": [],
   "source": [
    "def validate(data):\n",
    "    match data:\n",
    "        case {\"a\": 100, \"b\": _}:\n",
    "            print(\"ok\")\n",
    "        case {\"a\": 50, \"b\": \"err\"}:\n",
    "            print(\"critical\")\n",
    "        case {\"a\": 0}:\n",
    "            print(\"defunkt\")\n",
    "        case {\"a\": value, \"b\": \"ok\"} if 100 < value < 110:\n",
    "            print(\"elevated\")"
   ]
  },
  {
   "cell_type": "code",
   "execution_count": 30,
   "id": "533b689d",
   "metadata": {},
   "outputs": [
    {
     "name": "stdout",
     "output_type": "stream",
     "text": [
      "elevated\n"
     ]
    }
   ],
   "source": [
    "validate({\"a\": 107, \"b\": \"ok\"})"
   ]
  },
  {
   "cell_type": "code",
   "execution_count": 31,
   "id": "e74a16a2",
   "metadata": {},
   "outputs": [
    {
     "name": "stdout",
     "output_type": "stream",
     "text": [
      "ok\n"
     ]
    }
   ],
   "source": [
    "validate({\"a\": 100, \"b\": \"abc\"})"
   ]
  },
  {
   "cell_type": "code",
   "execution_count": 32,
   "id": "1bfb18e9",
   "metadata": {},
   "outputs": [
    {
     "name": "stdout",
     "output_type": "stream",
     "text": [
      "critical\n"
     ]
    }
   ],
   "source": [
    "validate({\"a\": 50, \"b\": \"err\"})"
   ]
  },
  {
   "cell_type": "code",
   "execution_count": 33,
   "id": "6fedf075",
   "metadata": {},
   "outputs": [
    {
     "name": "stdout",
     "output_type": "stream",
     "text": [
      "defunkt\n"
     ]
    }
   ],
   "source": [
    "validate({\"a\": 0, \"b\": \"abc\"})"
   ]
  },
  {
   "cell_type": "markdown",
   "id": "74ca94c7",
   "metadata": {},
   "source": [
    "## Data Model\n",
    "\n",
    "* internal of python\n",
    "* special methods that python uses for its facilities (magic methods)\n",
    "\n",
    "Categories:\n",
    "\n",
    "* Initialization\n",
    "* Comparison\n",
    "* Unary operators\n",
    "* Augmented assignment\n",
    "* Type conversions\n",
    "* String Magic\n",
    "* Attribute Magic\n",
    "* Operator Magic"
   ]
  },
  {
   "cell_type": "markdown",
   "id": "80388591",
   "metadata": {},
   "source": [
    "### Initialization"
   ]
  },
  {
   "cell_type": "code",
   "execution_count": 34,
   "id": "218f520f",
   "metadata": {},
   "outputs": [],
   "source": [
    "class A:\n",
    "    pass"
   ]
  },
  {
   "cell_type": "code",
   "execution_count": 35,
   "id": "6dddf194",
   "metadata": {},
   "outputs": [],
   "source": [
    "a = A()"
   ]
  },
  {
   "cell_type": "code",
   "execution_count": 36,
   "id": "7a64cac0",
   "metadata": {},
   "outputs": [],
   "source": [
    "a.x = 1"
   ]
  },
  {
   "cell_type": "code",
   "execution_count": 37,
   "id": "e6e22b80",
   "metadata": {},
   "outputs": [
    {
     "data": {
      "text/plain": [
       "1"
      ]
     },
     "execution_count": 37,
     "metadata": {},
     "output_type": "execute_result"
    }
   ],
   "source": [
    "a.x"
   ]
  },
  {
   "cell_type": "code",
   "execution_count": 38,
   "id": "378cdfd9",
   "metadata": {},
   "outputs": [],
   "source": [
    "class A:\n",
    "    def __init__(self):\n",
    "        self.x = 1"
   ]
  },
  {
   "cell_type": "code",
   "execution_count": 39,
   "id": "9bc7f9b3",
   "metadata": {},
   "outputs": [],
   "source": [
    "a = A()"
   ]
  },
  {
   "cell_type": "code",
   "execution_count": 40,
   "id": "77d1284c",
   "metadata": {},
   "outputs": [
    {
     "data": {
      "text/plain": [
       "1"
      ]
     },
     "execution_count": 40,
     "metadata": {},
     "output_type": "execute_result"
    }
   ],
   "source": [
    "a.x"
   ]
  },
  {
   "cell_type": "code",
   "execution_count": 41,
   "id": "4e4fe999",
   "metadata": {},
   "outputs": [],
   "source": [
    "class Counted:\n",
    "    count = 0\n",
    "    def __init__(self):\n",
    "        Counted.count += 1\n",
    "        self.x = 1"
   ]
  },
  {
   "cell_type": "code",
   "execution_count": 42,
   "id": "dd4b7377",
   "metadata": {},
   "outputs": [],
   "source": [
    "a = Counted()\n",
    "b = Counted()"
   ]
  },
  {
   "cell_type": "code",
   "execution_count": 43,
   "id": "1de7b394",
   "metadata": {},
   "outputs": [
    {
     "data": {
      "text/plain": [
       "2"
      ]
     },
     "execution_count": 43,
     "metadata": {},
     "output_type": "execute_result"
    }
   ],
   "source": [
    "b.count"
   ]
  },
  {
   "cell_type": "markdown",
   "id": "f45795fe",
   "metadata": {},
   "source": [
    "Finalizer"
   ]
  },
  {
   "cell_type": "code",
   "execution_count": 44,
   "id": "e179b7c7",
   "metadata": {},
   "outputs": [],
   "source": [
    "class A:\n",
    "    def __del__(self):\n",
    "        print(\"__del__\")"
   ]
  },
  {
   "cell_type": "code",
   "execution_count": 45,
   "id": "c5c714f1",
   "metadata": {},
   "outputs": [],
   "source": [
    "x = [A()]"
   ]
  },
  {
   "cell_type": "code",
   "execution_count": 46,
   "id": "e0ff155c",
   "metadata": {},
   "outputs": [
    {
     "name": "stdout",
     "output_type": "stream",
     "text": [
      "__del__\n"
     ]
    }
   ],
   "source": [
    "x = None"
   ]
  },
  {
   "cell_type": "markdown",
   "id": "e03238c4",
   "metadata": {},
   "source": [
    "Class creation"
   ]
  },
  {
   "cell_type": "code",
   "execution_count": 47,
   "id": "864fe1f8",
   "metadata": {},
   "outputs": [],
   "source": [
    "class A:\n",
    "    def __new__(cls):\n",
    "        print(f\"__new__ {cls}\")\n",
    "    def __init__(self):\n",
    "        print(\"__init__\")"
   ]
  },
  {
   "cell_type": "code",
   "execution_count": 48,
   "id": "de9e61f4",
   "metadata": {},
   "outputs": [
    {
     "name": "stdout",
     "output_type": "stream",
     "text": [
      "__new__ <class '__main__.A'>\n"
     ]
    }
   ],
   "source": [
    "a = A()"
   ]
  },
  {
   "cell_type": "code",
   "execution_count": 49,
   "id": "d0d3f6fd",
   "metadata": {},
   "outputs": [
    {
     "data": {
      "text/plain": [
       "True"
      ]
     },
     "execution_count": 49,
     "metadata": {},
     "output_type": "execute_result"
    }
   ],
   "source": [
    "a is None"
   ]
  },
  {
   "cell_type": "code",
   "execution_count": 50,
   "id": "8a09f598",
   "metadata": {},
   "outputs": [],
   "source": [
    "class A:\n",
    "    def __new__(cls):\n",
    "        print(f\"__new__ {cls}\")\n",
    "        return object.__new__(cls)\n",
    "    def __init__(self):\n",
    "        print(\"__init__\")"
   ]
  },
  {
   "cell_type": "code",
   "execution_count": 51,
   "id": "a830286a",
   "metadata": {},
   "outputs": [
    {
     "name": "stdout",
     "output_type": "stream",
     "text": [
      "__new__ <class '__main__.A'>\n",
      "__init__\n"
     ]
    }
   ],
   "source": [
    "a = A()"
   ]
  },
  {
   "cell_type": "code",
   "execution_count": 52,
   "id": "d795300d",
   "metadata": {},
   "outputs": [],
   "source": [
    "class A:\n",
    "    def __new__(cls):\n",
    "        print(f\"__new__ {cls}\")\n",
    "        return super().__new__(cls)\n",
    "    def __init__(self):\n",
    "        print(\"__init__\")"
   ]
  },
  {
   "cell_type": "code",
   "execution_count": 53,
   "id": "fd39709e",
   "metadata": {},
   "outputs": [],
   "source": [
    "class A:\n",
    "    def __new__(cls):\n",
    "        print(f\"__new__ {cls}\")\n",
    "        inst = super().__new__(cls)\n",
    "        print(inst, type(inst))\n",
    "        return inst\n",
    "    def __init__(self):\n",
    "        print(\"__init__\")"
   ]
  },
  {
   "cell_type": "code",
   "execution_count": 54,
   "id": "67c490ce",
   "metadata": {},
   "outputs": [
    {
     "name": "stdout",
     "output_type": "stream",
     "text": [
      "__new__ <class '__main__.A'>\n",
      "<__main__.A object at 0x7fa9880446d0> <class '__main__.A'>\n",
      "__init__\n"
     ]
    }
   ],
   "source": [
    "a = A()"
   ]
  },
  {
   "cell_type": "code",
   "execution_count": 55,
   "id": "89bb5ba0",
   "metadata": {},
   "outputs": [
    {
     "data": {
      "text/plain": [
       "str"
      ]
     },
     "execution_count": 55,
     "metadata": {},
     "output_type": "execute_result"
    }
   ],
   "source": [
    "type(\"abc\") # builtin function"
   ]
  },
  {
   "cell_type": "code",
   "execution_count": 56,
   "id": "6a9b472f",
   "metadata": {},
   "outputs": [],
   "source": [
    "A = type(\"A\", (), {}) # "
   ]
  },
  {
   "cell_type": "code",
   "execution_count": 57,
   "id": "b671d08a",
   "metadata": {},
   "outputs": [
    {
     "data": {
      "text/plain": [
       "type"
      ]
     },
     "execution_count": 57,
     "metadata": {},
     "output_type": "execute_result"
    }
   ],
   "source": [
    "type(A)"
   ]
  },
  {
   "cell_type": "code",
   "execution_count": 58,
   "id": "0e47375b",
   "metadata": {},
   "outputs": [],
   "source": [
    "A = type(\"A\", (object,), {\"x\": 1}) "
   ]
  },
  {
   "cell_type": "code",
   "execution_count": 59,
   "id": "3e1e2921",
   "metadata": {},
   "outputs": [
    {
     "data": {
      "text/plain": [
       "1"
      ]
     },
     "execution_count": 59,
     "metadata": {},
     "output_type": "execute_result"
    }
   ],
   "source": [
    "A.x"
   ]
  },
  {
   "cell_type": "code",
   "execution_count": 60,
   "id": "349051b6",
   "metadata": {},
   "outputs": [],
   "source": [
    "import datetime"
   ]
  },
  {
   "cell_type": "code",
   "execution_count": 61,
   "id": "3bffd1d0",
   "metadata": {},
   "outputs": [],
   "source": [
    "class A:\n",
    "    \"\"\" A \"\"\"\n",
    "    def __new__(cls, *args, **kwargs):\n",
    "        inst = super().__new__(A)\n",
    "        inst.__doc__ = inst.__doc__ + f\" -- instatiated at {datetime.datetime.now()}\"\n",
    "        return inst\n",
    "    \n",
    "    def __init__(self, name, location=\"world\"):\n",
    "        self.name = name\n",
    "        self.location = location"
   ]
  },
  {
   "cell_type": "code",
   "execution_count": 62,
   "id": "cf9b6377",
   "metadata": {},
   "outputs": [],
   "source": [
    "a = A(\"abc\")"
   ]
  },
  {
   "cell_type": "code",
   "execution_count": 63,
   "id": "8eb6c280",
   "metadata": {},
   "outputs": [
    {
     "name": "stdout",
     "output_type": "stream",
     "text": [
      "Help on A in module __main__:\n",
      "\n",
      "<__main__.A object>\n",
      "    A  -- instatiated at 2022-12-08 11:06:24.064457\n",
      "\n"
     ]
    }
   ],
   "source": [
    "help(a)"
   ]
  },
  {
   "cell_type": "markdown",
   "id": "ba755c82",
   "metadata": {},
   "source": [
    "### Comparisons"
   ]
  },
  {
   "cell_type": "markdown",
   "id": "c254a335",
   "metadata": {},
   "source": [
    "* `__cmp__` - now gone"
   ]
  },
  {
   "cell_type": "markdown",
   "id": "cc1d60e5",
   "metadata": {},
   "source": [
    "rich comparison operators:\n",
    "    \n",
    "* eq, ne, lt, gt, le, ge"
   ]
  },
  {
   "cell_type": "code",
   "execution_count": 79,
   "id": "f7c90e10",
   "metadata": {},
   "outputs": [],
   "source": [
    "class A:\n",
    "    def __eq__(self, other):\n",
    "        print(\"__eq__\")\n",
    "        return False"
   ]
  },
  {
   "cell_type": "code",
   "execution_count": 81,
   "id": "2d44a0f6",
   "metadata": {},
   "outputs": [],
   "source": [
    "a = A()"
   ]
  },
  {
   "cell_type": "code",
   "execution_count": 82,
   "id": "6d7493cd",
   "metadata": {},
   "outputs": [
    {
     "name": "stdout",
     "output_type": "stream",
     "text": [
      "__eq__\n"
     ]
    },
    {
     "data": {
      "text/plain": [
       "False"
      ]
     },
     "execution_count": 82,
     "metadata": {},
     "output_type": "execute_result"
    }
   ],
   "source": [
    "a == \"a\""
   ]
  },
  {
   "cell_type": "code",
   "execution_count": 83,
   "id": "9328d7a9",
   "metadata": {},
   "outputs": [
    {
     "name": "stdout",
     "output_type": "stream",
     "text": [
      "__eq__\n"
     ]
    },
    {
     "data": {
      "text/plain": [
       "True"
      ]
     },
     "execution_count": 83,
     "metadata": {},
     "output_type": "execute_result"
    }
   ],
   "source": [
    "a != \"a\""
   ]
  },
  {
   "cell_type": "code",
   "execution_count": 84,
   "id": "f710f94f",
   "metadata": {},
   "outputs": [],
   "source": [
    "class A:\n",
    "    def __ne__(self, other):\n",
    "        print(\"__ne__\")\n",
    "        return False"
   ]
  },
  {
   "cell_type": "code",
   "execution_count": 85,
   "id": "742da5ec",
   "metadata": {},
   "outputs": [],
   "source": [
    "a = A()"
   ]
  },
  {
   "cell_type": "code",
   "execution_count": 86,
   "id": "ce886d98",
   "metadata": {},
   "outputs": [
    {
     "name": "stdout",
     "output_type": "stream",
     "text": [
      "__ne__\n"
     ]
    },
    {
     "data": {
      "text/plain": [
       "False"
      ]
     },
     "execution_count": 86,
     "metadata": {},
     "output_type": "execute_result"
    }
   ],
   "source": [
    "a != \"a\""
   ]
  },
  {
   "cell_type": "code",
   "execution_count": 87,
   "id": "0a682586",
   "metadata": {},
   "outputs": [
    {
     "data": {
      "text/plain": [
       "False"
      ]
     },
     "execution_count": 87,
     "metadata": {},
     "output_type": "execute_result"
    }
   ],
   "source": [
    "a == \"a\""
   ]
  },
  {
   "cell_type": "code",
   "execution_count": 91,
   "id": "62b44fee",
   "metadata": {},
   "outputs": [],
   "source": [
    "import functools"
   ]
  },
  {
   "cell_type": "code",
   "execution_count": 96,
   "id": "c85c2546",
   "metadata": {},
   "outputs": [],
   "source": [
    "@functools.total_ordering # would not override existing implementions\n",
    "class Word(str):\n",
    "    def __eq__(self, other):\n",
    "        return str(self) == str(other)\n",
    "    \n",
    "    def __lt__(self, other):\n",
    "        return len(self) < len(other)"
   ]
  },
  {
   "cell_type": "code",
   "execution_count": 93,
   "id": "3ee902ef",
   "metadata": {},
   "outputs": [
    {
     "data": {
      "text/plain": [
       "False"
      ]
     },
     "execution_count": 93,
     "metadata": {},
     "output_type": "execute_result"
    }
   ],
   "source": [
    "Word(\"abc\") == Word(\"def\")"
   ]
  },
  {
   "cell_type": "code",
   "execution_count": 94,
   "id": "092f8a7d",
   "metadata": {},
   "outputs": [
    {
     "data": {
      "text/plain": [
       "True"
      ]
     },
     "execution_count": 94,
     "metadata": {},
     "output_type": "execute_result"
    }
   ],
   "source": [
    "Word(\"bb\") < Word(\"aaa\") # Word lt"
   ]
  },
  {
   "cell_type": "code",
   "execution_count": 95,
   "id": "6be1a7b9",
   "metadata": {},
   "outputs": [
    {
     "data": {
      "text/plain": [
       "True"
      ]
     },
     "execution_count": 95,
     "metadata": {},
     "output_type": "execute_result"
    }
   ],
   "source": [
    "Word(\"bb\") > Word(\"aaa\") # str gt"
   ]
  },
  {
   "cell_type": "markdown",
   "id": "28eeafb2",
   "metadata": {},
   "source": [
    "### Unary operator and function"
   ]
  },
  {
   "cell_type": "markdown",
   "id": "83d8141d",
   "metadata": {},
   "source": [
    "Magic methods: pos, neg, abs, invert -- round, floor, ceil, trunc \n",
    "\n",
    "\n",
    "\n"
   ]
  },
  {
   "cell_type": "code",
   "execution_count": 101,
   "id": "eaa032e5",
   "metadata": {},
   "outputs": [],
   "source": [
    "class A:\n",
    "    def __abs__(self):\n",
    "        return 0"
   ]
  },
  {
   "cell_type": "code",
   "execution_count": 102,
   "id": "e606729f",
   "metadata": {},
   "outputs": [],
   "source": [
    "a = A()"
   ]
  },
  {
   "cell_type": "code",
   "execution_count": 103,
   "id": "f7683ede",
   "metadata": {},
   "outputs": [
    {
     "data": {
      "text/plain": [
       "0"
      ]
     },
     "execution_count": 103,
     "metadata": {},
     "output_type": "execute_result"
    }
   ],
   "source": [
    "abs(a)"
   ]
  },
  {
   "cell_type": "code",
   "execution_count": 104,
   "id": "17c62033",
   "metadata": {},
   "outputs": [],
   "source": [
    "class A:\n",
    "    def __invert__(self):\n",
    "        return \"inverted\""
   ]
  },
  {
   "cell_type": "code",
   "execution_count": 105,
   "id": "30eba5f9",
   "metadata": {},
   "outputs": [],
   "source": [
    "a = A()"
   ]
  },
  {
   "cell_type": "code",
   "execution_count": 106,
   "id": "105ecd89",
   "metadata": {},
   "outputs": [
    {
     "data": {
      "text/plain": [
       "'inverted'"
      ]
     },
     "execution_count": 106,
     "metadata": {},
     "output_type": "execute_result"
    }
   ],
   "source": [
    "~a"
   ]
  },
  {
   "cell_type": "code",
   "execution_count": 107,
   "id": "03e308ec",
   "metadata": {},
   "outputs": [],
   "source": [
    "import math"
   ]
  },
  {
   "cell_type": "code",
   "execution_count": 109,
   "id": "568cfe7e",
   "metadata": {},
   "outputs": [],
   "source": [
    "class A:\n",
    "    def __trunc__(self):\n",
    "        return 1"
   ]
  },
  {
   "cell_type": "code",
   "execution_count": 110,
   "id": "c801d0fa",
   "metadata": {},
   "outputs": [],
   "source": [
    "a = A()"
   ]
  },
  {
   "cell_type": "code",
   "execution_count": 111,
   "id": "028342c4",
   "metadata": {},
   "outputs": [
    {
     "data": {
      "text/plain": [
       "1"
      ]
     },
     "execution_count": 111,
     "metadata": {},
     "output_type": "execute_result"
    }
   ],
   "source": [
    "math.trunc(a)"
   ]
  },
  {
   "cell_type": "markdown",
   "id": "790d4393",
   "metadata": {},
   "source": [
    "### Augement assignment\n",
    "\n",
    "* +=, -=, ...\n",
    "* iadd, isub, imul, idiv, ..."
   ]
  },
  {
   "cell_type": "code",
   "execution_count": 117,
   "id": "531597c2",
   "metadata": {},
   "outputs": [],
   "source": [
    "class Votes:\n",
    "    \n",
    "    def __iadd__(self, other):\n",
    "        self.votes = self.votes + other\n",
    "        return self\n",
    "        \n",
    "    def __init__(self):\n",
    "        self.votes = 0"
   ]
  },
  {
   "cell_type": "code",
   "execution_count": 118,
   "id": "e861ea61",
   "metadata": {},
   "outputs": [],
   "source": [
    "v = Votes()"
   ]
  },
  {
   "cell_type": "code",
   "execution_count": 119,
   "id": "c297d9b6",
   "metadata": {},
   "outputs": [],
   "source": [
    "v += 1"
   ]
  },
  {
   "cell_type": "code",
   "execution_count": 120,
   "id": "c3510ce7",
   "metadata": {},
   "outputs": [
    {
     "data": {
      "text/plain": [
       "1"
      ]
     },
     "execution_count": 120,
     "metadata": {},
     "output_type": "execute_result"
    }
   ],
   "source": [
    "v.votes"
   ]
  },
  {
   "cell_type": "code",
   "execution_count": 121,
   "id": "c8cf6c8a",
   "metadata": {},
   "outputs": [],
   "source": [
    "v += 1"
   ]
  },
  {
   "cell_type": "code",
   "execution_count": 122,
   "id": "89234cc5",
   "metadata": {},
   "outputs": [
    {
     "data": {
      "text/plain": [
       "2"
      ]
     },
     "execution_count": 122,
     "metadata": {},
     "output_type": "execute_result"
    }
   ],
   "source": [
    "v.votes"
   ]
  },
  {
   "cell_type": "markdown",
   "id": "955d8bd0",
   "metadata": {},
   "source": [
    "### Type conversion"
   ]
  },
  {
   "cell_type": "markdown",
   "id": "2f85847b",
   "metadata": {},
   "source": [
    "* int, float, complex, oct, hex, ..."
   ]
  },
  {
   "cell_type": "markdown",
   "id": "3cd6f96a",
   "metadata": {},
   "source": [
    "### String Magic (other stuff)\n",
    "\n"
   ]
  },
  {
   "cell_type": "markdown",
   "id": "199fd70b",
   "metadata": {},
   "source": [
    "* str, repr, format\n",
    "* hash, dir, bytes"
   ]
  },
  {
   "cell_type": "markdown",
   "id": "4d9f323a",
   "metadata": {},
   "source": [
    "* str vs repr"
   ]
  },
  {
   "cell_type": "code",
   "execution_count": 125,
   "id": "3f2cad2f",
   "metadata": {},
   "outputs": [],
   "source": [
    "class A:\n",
    "    \n",
    "    def __repr__(self):\n",
    "        return \"repr A\""
   ]
  },
  {
   "cell_type": "code",
   "execution_count": 126,
   "id": "0fe98599",
   "metadata": {},
   "outputs": [],
   "source": [
    "a = A()"
   ]
  },
  {
   "cell_type": "code",
   "execution_count": 127,
   "id": "9240b7ba",
   "metadata": {},
   "outputs": [
    {
     "data": {
      "text/plain": [
       "repr A"
      ]
     },
     "execution_count": 127,
     "metadata": {},
     "output_type": "execute_result"
    }
   ],
   "source": [
    "a"
   ]
  },
  {
   "cell_type": "code",
   "execution_count": 129,
   "id": "5cfa5628",
   "metadata": {},
   "outputs": [
    {
     "name": "stdout",
     "output_type": "stream",
     "text": [
      "repr A\n"
     ]
    }
   ],
   "source": [
    "print(a) # at this point __str__ == __repr__"
   ]
  },
  {
   "cell_type": "code",
   "execution_count": 134,
   "id": "c2f1ac3b",
   "metadata": {},
   "outputs": [],
   "source": [
    "class A:\n",
    "\n",
    "    def __str__(self):\n",
    "        return \"str A\"\n",
    "    \n",
    "    def __repr__(self):\n",
    "        return \"repr A\""
   ]
  },
  {
   "cell_type": "code",
   "execution_count": 136,
   "id": "23b87c0f",
   "metadata": {},
   "outputs": [],
   "source": [
    "a = A()"
   ]
  },
  {
   "cell_type": "code",
   "execution_count": 139,
   "id": "534270ea",
   "metadata": {},
   "outputs": [
    {
     "data": {
      "text/plain": [
       "repr A"
      ]
     },
     "execution_count": 139,
     "metadata": {},
     "output_type": "execute_result"
    }
   ],
   "source": [
    "a"
   ]
  },
  {
   "cell_type": "code",
   "execution_count": 138,
   "id": "9d41dc41",
   "metadata": {},
   "outputs": [
    {
     "name": "stdout",
     "output_type": "stream",
     "text": [
      "str A\n"
     ]
    }
   ],
   "source": [
    "print(a)"
   ]
  },
  {
   "cell_type": "code",
   "execution_count": 140,
   "id": "ef07cf2b",
   "metadata": {},
   "outputs": [],
   "source": [
    "# what repr tries to be: eval(repr(a)) == a"
   ]
  },
  {
   "cell_type": "code",
   "execution_count": 141,
   "id": "807f2813",
   "metadata": {},
   "outputs": [
    {
     "name": "stdout",
     "output_type": "stream",
     "text": [
      "repr A\n"
     ]
    }
   ],
   "source": [
    "print(\"%r\" % a)"
   ]
  },
  {
   "cell_type": "code",
   "execution_count": 142,
   "id": "4ec66d0a",
   "metadata": {},
   "outputs": [],
   "source": [
    "class A:\n",
    "\n",
    "    def __str__(self):\n",
    "        return 123"
   ]
  },
  {
   "cell_type": "code",
   "execution_count": 143,
   "id": "903a524c",
   "metadata": {},
   "outputs": [],
   "source": [
    "a = A()"
   ]
  },
  {
   "cell_type": "code",
   "execution_count": 146,
   "id": "e48d9744",
   "metadata": {},
   "outputs": [],
   "source": [
    "# print(a) # TypeError: __str__ returned non-string (type int)"
   ]
  },
  {
   "cell_type": "code",
   "execution_count": 147,
   "id": "89f60d03",
   "metadata": {},
   "outputs": [],
   "source": [
    "class A:\n",
    "    def __bytes__(self):\n",
    "        return b\"abc\""
   ]
  },
  {
   "cell_type": "code",
   "execution_count": 148,
   "id": "e42602d9",
   "metadata": {},
   "outputs": [],
   "source": [
    "a = A()"
   ]
  },
  {
   "cell_type": "code",
   "execution_count": 149,
   "id": "353a3d5c",
   "metadata": {},
   "outputs": [
    {
     "data": {
      "text/plain": [
       "b'abc'"
      ]
     },
     "execution_count": 149,
     "metadata": {},
     "output_type": "execute_result"
    }
   ],
   "source": [
    "bytes(a)"
   ]
  },
  {
   "cell_type": "code",
   "execution_count": 150,
   "id": "2000429f",
   "metadata": {},
   "outputs": [],
   "source": [
    "class A:\n",
    "    def __format__(self, format_spec):\n",
    "        return f\"A seen through the lens of '{format_spec}'\""
   ]
  },
  {
   "cell_type": "code",
   "execution_count": 151,
   "id": "bd477913",
   "metadata": {},
   "outputs": [],
   "source": [
    "a = A()"
   ]
  },
  {
   "cell_type": "code",
   "execution_count": 152,
   "id": "8407a828",
   "metadata": {},
   "outputs": [
    {
     "data": {
      "text/plain": [
       "\"A seen through the lens of '%d'\""
      ]
     },
     "execution_count": 152,
     "metadata": {},
     "output_type": "execute_result"
    }
   ],
   "source": [
    "format(a, \"%d\")"
   ]
  },
  {
   "cell_type": "code",
   "execution_count": 153,
   "id": "021443c9",
   "metadata": {},
   "outputs": [
    {
     "data": {
      "text/plain": [
       "\"A seen through the lens of '{:03d}'\""
      ]
     },
     "execution_count": 153,
     "metadata": {},
     "output_type": "execute_result"
    }
   ],
   "source": [
    "format(a, \"{:03d}\")"
   ]
  },
  {
   "cell_type": "markdown",
   "id": "4ea61014",
   "metadata": {},
   "source": [
    "Hash special method"
   ]
  },
  {
   "cell_type": "code",
   "execution_count": 154,
   "id": "baf72818",
   "metadata": {},
   "outputs": [
    {
     "data": {
      "text/plain": [
       "1"
      ]
     },
     "execution_count": 154,
     "metadata": {},
     "output_type": "execute_result"
    }
   ],
   "source": [
    "hash(1)"
   ]
  },
  {
   "cell_type": "code",
   "execution_count": 155,
   "id": "a1274c38",
   "metadata": {},
   "outputs": [
    {
     "data": {
      "text/plain": [
       "6065124053262953902"
      ]
     },
     "execution_count": 155,
     "metadata": {},
     "output_type": "execute_result"
    }
   ],
   "source": [
    "hash(\"hello\")"
   ]
  },
  {
   "cell_type": "code",
   "execution_count": 156,
   "id": "f1e54a07",
   "metadata": {},
   "outputs": [],
   "source": [
    "x = 123\n",
    "y = 123"
   ]
  },
  {
   "cell_type": "code",
   "execution_count": 157,
   "id": "c8ad2e04",
   "metadata": {},
   "outputs": [
    {
     "data": {
      "text/plain": [
       "True"
      ]
     },
     "execution_count": 157,
     "metadata": {},
     "output_type": "execute_result"
    }
   ],
   "source": [
    "hash(x) == hash(y)"
   ]
  },
  {
   "cell_type": "code",
   "execution_count": 161,
   "id": "ec1c1501",
   "metadata": {},
   "outputs": [
    {
     "data": {
      "text/plain": [
       "True"
      ]
     },
     "execution_count": 161,
     "metadata": {},
     "output_type": "execute_result"
    }
   ],
   "source": [
    "id(x) == id(y) "
   ]
  },
  {
   "cell_type": "code",
   "execution_count": 162,
   "id": "2964836f",
   "metadata": {},
   "outputs": [],
   "source": [
    "a = 1000000\n",
    "b = 1000000"
   ]
  },
  {
   "cell_type": "code",
   "execution_count": 163,
   "id": "88b989b7",
   "metadata": {},
   "outputs": [
    {
     "data": {
      "text/plain": [
       "True"
      ]
     },
     "execution_count": 163,
     "metadata": {},
     "output_type": "execute_result"
    }
   ],
   "source": [
    "hash(a) == hash(b)"
   ]
  },
  {
   "cell_type": "code",
   "execution_count": 164,
   "id": "d462fbc1",
   "metadata": {},
   "outputs": [
    {
     "data": {
      "text/plain": [
       "False"
      ]
     },
     "execution_count": 164,
     "metadata": {},
     "output_type": "execute_result"
    }
   ],
   "source": [
    "id(a) == id(b)"
   ]
  },
  {
   "cell_type": "code",
   "execution_count": 165,
   "id": "75a98a0c",
   "metadata": {},
   "outputs": [],
   "source": [
    "### Dir function"
   ]
  },
  {
   "cell_type": "code",
   "execution_count": 167,
   "id": "640bf742",
   "metadata": {},
   "outputs": [],
   "source": [
    "class A:\n",
    "    def __dir__(self):\n",
    "        return list(\"abcd\")"
   ]
  },
  {
   "cell_type": "code",
   "execution_count": 168,
   "id": "dfa8b974",
   "metadata": {},
   "outputs": [],
   "source": [
    "a = A()"
   ]
  },
  {
   "cell_type": "code",
   "execution_count": 169,
   "id": "8b0c2af5",
   "metadata": {},
   "outputs": [
    {
     "data": {
      "text/plain": [
       "['a', 'b', 'c', 'd']"
      ]
     },
     "execution_count": 169,
     "metadata": {},
     "output_type": "execute_result"
    }
   ],
   "source": [
    "dir(a)"
   ]
  },
  {
   "cell_type": "markdown",
   "id": "cc4dae54",
   "metadata": {},
   "source": [
    "Sidenote"
   ]
  },
  {
   "cell_type": "code",
   "execution_count": null,
   "id": "762bb0d6",
   "metadata": {},
   "outputs": [],
   "source": [
    "`__sizeof__`"
   ]
  },
  {
   "cell_type": "markdown",
   "id": "cf63afcf",
   "metadata": {},
   "source": [
    "### Attribute magic"
   ]
  },
  {
   "cell_type": "markdown",
   "id": "e61656f2",
   "metadata": {},
   "source": [
    "* getattr, setattr, delattr, getattribute"
   ]
  },
  {
   "cell_type": "code",
   "execution_count": 171,
   "id": "813077bc",
   "metadata": {},
   "outputs": [
    {
     "data": {
      "text/plain": [
       "<function functools.total_ordering(cls)>"
      ]
     },
     "execution_count": 171,
     "metadata": {},
     "output_type": "execute_result"
    }
   ],
   "source": [
    "getattr(functools, \"total_ordering\")"
   ]
  },
  {
   "cell_type": "code",
   "execution_count": 172,
   "id": "7744f586",
   "metadata": {},
   "outputs": [],
   "source": [
    "setattr?"
   ]
  },
  {
   "cell_type": "code",
   "execution_count": 173,
   "id": "854b8ed4",
   "metadata": {},
   "outputs": [],
   "source": [
    "class A:\n",
    "    def __getattr__(self, name):\n",
    "        print(\"__getattr__ {name}\")"
   ]
  },
  {
   "cell_type": "code",
   "execution_count": 174,
   "id": "d206af1e",
   "metadata": {},
   "outputs": [],
   "source": [
    "a = A()"
   ]
  },
  {
   "cell_type": "code",
   "execution_count": 175,
   "id": "4b4c0604",
   "metadata": {},
   "outputs": [
    {
     "name": "stdout",
     "output_type": "stream",
     "text": [
      "__getattr__ {name}\n"
     ]
    }
   ],
   "source": [
    "a.x"
   ]
  },
  {
   "cell_type": "code",
   "execution_count": 180,
   "id": "8b819c44",
   "metadata": {},
   "outputs": [],
   "source": [
    "import re"
   ]
  },
  {
   "cell_type": "code",
   "execution_count": 181,
   "id": "f1d1b32f",
   "metadata": {},
   "outputs": [],
   "source": [
    "class A:\n",
    "    def __getattr__(self, name):\n",
    "        m = re.match(\"(.*)_(.*)\", name)\n",
    "        if not m:\n",
    "            raise AttributeError()\n",
    "        match m.groups():\n",
    "            case [\"export\", fmt]:\n",
    "                match fmt:\n",
    "                    case \"pdf\":\n",
    "                        print(\"exp pdf\")\n",
    "                        return\n",
    "                    case \"png\":\n",
    "                        print(\"exp png\")\n",
    "                        return\n",
    "        raise AttributeError()\n"
   ]
  },
  {
   "cell_type": "code",
   "execution_count": 182,
   "id": "ac2cdfc2",
   "metadata": {},
   "outputs": [],
   "source": [
    "a = A()"
   ]
  },
  {
   "cell_type": "code",
   "execution_count": 183,
   "id": "63bd97f6",
   "metadata": {},
   "outputs": [
    {
     "name": "stdout",
     "output_type": "stream",
     "text": [
      "exp pdf\n"
     ]
    }
   ],
   "source": [
    "a.export_pdf"
   ]
  },
  {
   "cell_type": "code",
   "execution_count": 184,
   "id": "62c074f8",
   "metadata": {},
   "outputs": [
    {
     "name": "stdout",
     "output_type": "stream",
     "text": [
      "exp png\n"
     ]
    }
   ],
   "source": [
    "a.export_png"
   ]
  },
  {
   "cell_type": "code",
   "execution_count": 185,
   "id": "974ccf75",
   "metadata": {},
   "outputs": [
    {
     "ename": "AttributeError",
     "evalue": "",
     "output_type": "error",
     "traceback": [
      "\u001b[0;31m---------------------------------------------------------------------------\u001b[0m",
      "\u001b[0;31mAttributeError\u001b[0m                            Traceback (most recent call last)",
      "Cell \u001b[0;32mIn[185], line 1\u001b[0m\n\u001b[0;32m----> 1\u001b[0m \u001b[43ma\u001b[49m\u001b[38;5;241;43m.\u001b[39;49m\u001b[43mexport_doc\u001b[49m\n",
      "Cell \u001b[0;32mIn[181], line 15\u001b[0m, in \u001b[0;36mA.__getattr__\u001b[0;34m(self, name)\u001b[0m\n\u001b[1;32m     13\u001b[0m                 \u001b[38;5;28mprint\u001b[39m(\u001b[38;5;124m\"\u001b[39m\u001b[38;5;124mexp png\u001b[39m\u001b[38;5;124m\"\u001b[39m)\n\u001b[1;32m     14\u001b[0m                 \u001b[38;5;28;01mreturn\u001b[39;00m\n\u001b[0;32m---> 15\u001b[0m \u001b[38;5;28;01mraise\u001b[39;00m \u001b[38;5;167;01mAttributeError\u001b[39;00m()\n",
      "\u001b[0;31mAttributeError\u001b[0m: "
     ]
    }
   ],
   "source": [
    "a.export_doc"
   ]
  },
  {
   "cell_type": "markdown",
   "id": "f17d4812",
   "metadata": {},
   "source": [
    "* getattribute"
   ]
  },
  {
   "cell_type": "code",
   "execution_count": 187,
   "id": "3bcd43e5",
   "metadata": {},
   "outputs": [],
   "source": [
    "class A:\n",
    "    def __getattr__(self, name):\n",
    "        print(\"__getattr__\")\n",
    "        return \"dummy\"\n",
    "    \n",
    "    def __getattribute__(self, name):\n",
    "        print(f\"__getattribute__ {name}\")\n",
    "        return \"dummy\""
   ]
  },
  {
   "cell_type": "code",
   "execution_count": 188,
   "id": "251e13c2",
   "metadata": {},
   "outputs": [],
   "source": [
    "a = A()"
   ]
  },
  {
   "cell_type": "code",
   "execution_count": 189,
   "id": "281add8d",
   "metadata": {},
   "outputs": [
    {
     "name": "stdout",
     "output_type": "stream",
     "text": [
      "__getattribute__ x\n"
     ]
    },
    {
     "data": {
      "text/plain": [
       "'dummy'"
      ]
     },
     "execution_count": 189,
     "metadata": {},
     "output_type": "execute_result"
    }
   ],
   "source": [
    "a.x"
   ]
  },
  {
   "cell_type": "code",
   "execution_count": 192,
   "id": "b0707716",
   "metadata": {},
   "outputs": [],
   "source": [
    "class A:\n",
    "    def __delattr__(self, name):\n",
    "        print(\"__delattr__\")"
   ]
  },
  {
   "cell_type": "code",
   "execution_count": 193,
   "id": "b6d523a8",
   "metadata": {},
   "outputs": [],
   "source": [
    "a = A()"
   ]
  },
  {
   "cell_type": "code",
   "execution_count": 194,
   "id": "9ac4348b",
   "metadata": {},
   "outputs": [],
   "source": [
    "a.x = 1"
   ]
  },
  {
   "cell_type": "code",
   "execution_count": 195,
   "id": "7419db73",
   "metadata": {},
   "outputs": [
    {
     "name": "stdout",
     "output_type": "stream",
     "text": [
      "__delattr__\n"
     ]
    }
   ],
   "source": [
    "del a.x"
   ]
  },
  {
   "cell_type": "markdown",
   "id": "9107b112",
   "metadata": {},
   "source": [
    "### Operator magic"
   ]
  },
  {
   "cell_type": "markdown",
   "id": "585db59e",
   "metadata": {},
   "source": [
    "* add, sub, mul, floordiv, truediv, mod, pow"
   ]
  },
  {
   "cell_type": "code",
   "execution_count": 196,
   "id": "422ee03a",
   "metadata": {},
   "outputs": [],
   "source": [
    "class A:\n",
    "    def __add__(self, other):\n",
    "        return \"__add__\""
   ]
  },
  {
   "cell_type": "code",
   "execution_count": 197,
   "id": "5dd865ef",
   "metadata": {},
   "outputs": [],
   "source": [
    "a = A()"
   ]
  },
  {
   "cell_type": "code",
   "execution_count": 198,
   "id": "1af9272b",
   "metadata": {},
   "outputs": [
    {
     "data": {
      "text/plain": [
       "'__add__'"
      ]
     },
     "execution_count": 198,
     "metadata": {},
     "output_type": "execute_result"
    }
   ],
   "source": [
    "a + a"
   ]
  },
  {
   "cell_type": "code",
   "execution_count": 202,
   "id": "fbd07794",
   "metadata": {},
   "outputs": [],
   "source": [
    "class Path:\n",
    "    def __truediv__(self, other):\n",
    "        self.segments.append(other)\n",
    "        return self\n",
    "    \n",
    "    def __repr__(self):\n",
    "        return \"/\" + \"/\".join(self.segments)\n",
    "    \n",
    "    def __init__(self):\n",
    "        self.segments = []"
   ]
  },
  {
   "cell_type": "code",
   "execution_count": 203,
   "id": "341006f0",
   "metadata": {},
   "outputs": [],
   "source": [
    "p = Path()"
   ]
  },
  {
   "cell_type": "code",
   "execution_count": 204,
   "id": "bc70be04",
   "metadata": {},
   "outputs": [
    {
     "data": {
      "text/plain": [
       "/etc/passwd"
      ]
     },
     "execution_count": 204,
     "metadata": {},
     "output_type": "execute_result"
    }
   ],
   "source": [
    "p / \"etc\" / \"passwd\""
   ]
  },
  {
   "cell_type": "code",
   "execution_count": 207,
   "id": "7aa76a72",
   "metadata": {},
   "outputs": [
    {
     "ename": "TypeError",
     "evalue": "unsupported operand type(s) for -: 'A' and 'int'",
     "output_type": "error",
     "traceback": [
      "\u001b[0;31m---------------------------------------------------------------------------\u001b[0m",
      "\u001b[0;31mTypeError\u001b[0m                                 Traceback (most recent call last)",
      "Cell \u001b[0;32mIn[207], line 1\u001b[0m\n\u001b[0;32m----> 1\u001b[0m \u001b[43ma\u001b[49m\u001b[43m \u001b[49m\u001b[38;5;241;43m-\u001b[39;49m\u001b[43m \u001b[49m\u001b[43mb\u001b[49m \u001b[38;5;66;03m# julia offers overloading of arbitarary unicode symbol\u001b[39;00m\n",
      "\u001b[0;31mTypeError\u001b[0m: unsupported operand type(s) for -: 'A' and 'int'"
     ]
    }
   ],
   "source": [
    "a - b # julia offers overloading of arbitrary unicode symbol"
   ]
  },
  {
   "cell_type": "markdown",
   "id": "94e05604",
   "metadata": {},
   "source": [
    "### Item access"
   ]
  },
  {
   "cell_type": "markdown",
   "id": "62ff4af2",
   "metadata": {},
   "source": [
    "* len, length_hint, getitem, setitem, delitem\n",
    "* iter, next, reversed, contains"
   ]
  },
  {
   "cell_type": "code",
   "execution_count": 209,
   "id": "b67077d3",
   "metadata": {},
   "outputs": [],
   "source": [
    "class A:\n",
    "    def __len__(self):\n",
    "        return 10"
   ]
  },
  {
   "cell_type": "code",
   "execution_count": 210,
   "id": "b2580849",
   "metadata": {},
   "outputs": [],
   "source": [
    "a = A()"
   ]
  },
  {
   "cell_type": "code",
   "execution_count": 211,
   "id": "157d8d90",
   "metadata": {},
   "outputs": [
    {
     "data": {
      "text/plain": [
       "10"
      ]
     },
     "execution_count": 211,
     "metadata": {},
     "output_type": "execute_result"
    }
   ],
   "source": [
    "len(a)"
   ]
  },
  {
   "cell_type": "code",
   "execution_count": 214,
   "id": "10274596",
   "metadata": {},
   "outputs": [],
   "source": [
    "class Game:\n",
    "    \n",
    "    def __init__(self, w=5, h=5):\n",
    "        self.w = w\n",
    "        self.h = h\n",
    "        self.grid = [i for i in range(w * h)]\n",
    "    \n",
    "    def __getitem__(self, key):\n",
    "        if len(key) != 2:\n",
    "            raise ValueError(\"tuple required\")\n",
    "        row, col = key\n",
    "        return self.grid[col + self.w * row]"
   ]
  },
  {
   "cell_type": "code",
   "execution_count": 215,
   "id": "a20c49ac",
   "metadata": {},
   "outputs": [],
   "source": [
    "g = Game()"
   ]
  },
  {
   "cell_type": "code",
   "execution_count": 216,
   "id": "31633e40",
   "metadata": {},
   "outputs": [
    {
     "data": {
      "text/plain": [
       "5"
      ]
     },
     "execution_count": 216,
     "metadata": {},
     "output_type": "execute_result"
    }
   ],
   "source": [
    "g.h"
   ]
  },
  {
   "cell_type": "code",
   "execution_count": 217,
   "id": "9347d193",
   "metadata": {},
   "outputs": [
    {
     "data": {
      "text/plain": [
       "5"
      ]
     },
     "execution_count": 217,
     "metadata": {},
     "output_type": "execute_result"
    }
   ],
   "source": [
    "g.w"
   ]
  },
  {
   "cell_type": "code",
   "execution_count": 218,
   "id": "b2e06277",
   "metadata": {},
   "outputs": [
    {
     "data": {
      "text/plain": [
       "25"
      ]
     },
     "execution_count": 218,
     "metadata": {},
     "output_type": "execute_result"
    }
   ],
   "source": [
    "len(g.grid)"
   ]
  },
  {
   "cell_type": "code",
   "execution_count": 223,
   "id": "50234953",
   "metadata": {},
   "outputs": [
    {
     "data": {
      "text/plain": [
       "6"
      ]
     },
     "execution_count": 223,
     "metadata": {},
     "output_type": "execute_result"
    }
   ],
   "source": [
    "g[1, 1]"
   ]
  },
  {
   "cell_type": "code",
   "execution_count": 224,
   "id": "32d8f08c",
   "metadata": {},
   "outputs": [
    {
     "name": "stdout",
     "output_type": "stream",
     "text": [
      "   0   1   2   3   4\n",
      "   5   6   7   8   9\n",
      "  10  11  12  13  14\n",
      "  15  16  17  18  19\n",
      "  20  21  22  23  24\n"
     ]
    }
   ],
   "source": [
    "for i in range(g.h):\n",
    "    for j in range(g.w):\n",
    "        print(\"{: 4d}\".format(g[i, j]), end=\"\")\n",
    "    print()"
   ]
  },
  {
   "cell_type": "markdown",
   "id": "36208e5e",
   "metadata": {},
   "source": [
    "### Descriptors"
   ]
  },
  {
   "cell_type": "code",
   "execution_count": 225,
   "id": "03d67d96",
   "metadata": {},
   "outputs": [],
   "source": [
    "class A:\n",
    "    v = 123"
   ]
  },
  {
   "cell_type": "code",
   "execution_count": 226,
   "id": "de08e88c",
   "metadata": {},
   "outputs": [
    {
     "data": {
      "text/plain": [
       "mappingproxy({'__module__': '__main__',\n",
       "              'v': 123,\n",
       "              '__dict__': <attribute '__dict__' of 'A' objects>,\n",
       "              '__weakref__': <attribute '__weakref__' of 'A' objects>,\n",
       "              '__doc__': None})"
      ]
     },
     "execution_count": 226,
     "metadata": {},
     "output_type": "execute_result"
    }
   ],
   "source": [
    "A.__dict__"
   ]
  },
  {
   "cell_type": "markdown",
   "id": "b12bbd18",
   "metadata": {},
   "source": [
    "* descriptor protocol: one of get, set, delete"
   ]
  },
  {
   "cell_type": "code",
   "execution_count": 228,
   "id": "6fce517a",
   "metadata": {},
   "outputs": [],
   "source": [
    "class A:\n",
    "    x = 10"
   ]
  },
  {
   "cell_type": "code",
   "execution_count": 229,
   "id": "2b20c5b5",
   "metadata": {},
   "outputs": [],
   "source": [
    "a = A()"
   ]
  },
  {
   "cell_type": "code",
   "execution_count": 230,
   "id": "764f00da",
   "metadata": {},
   "outputs": [
    {
     "data": {
      "text/plain": [
       "10"
      ]
     },
     "execution_count": 230,
     "metadata": {},
     "output_type": "execute_result"
    }
   ],
   "source": [
    "a.x"
   ]
  },
  {
   "cell_type": "code",
   "execution_count": 231,
   "id": "c77a79b2",
   "metadata": {},
   "outputs": [],
   "source": [
    "class D:\n",
    "    def __get__(self, obj, objtype=None):\n",
    "        print(\"D.__get__\", obj)\n",
    "        return 10"
   ]
  },
  {
   "cell_type": "code",
   "execution_count": 232,
   "id": "dbaece34",
   "metadata": {},
   "outputs": [],
   "source": [
    "class A:\n",
    "    x = D()"
   ]
  },
  {
   "cell_type": "code",
   "execution_count": 233,
   "id": "ccb87f85",
   "metadata": {},
   "outputs": [],
   "source": [
    "a = A()"
   ]
  },
  {
   "cell_type": "code",
   "execution_count": 234,
   "id": "a6957051",
   "metadata": {},
   "outputs": [
    {
     "name": "stdout",
     "output_type": "stream",
     "text": [
      "D.__get__ <__main__.A object at 0x7fa963e65650>\n"
     ]
    },
    {
     "data": {
      "text/plain": [
       "10"
      ]
     },
     "execution_count": 234,
     "metadata": {},
     "output_type": "execute_result"
    }
   ],
   "source": [
    "a.x"
   ]
  },
  {
   "cell_type": "code",
   "execution_count": 235,
   "id": "d3c366fe",
   "metadata": {},
   "outputs": [
    {
     "data": {
      "text/plain": [
       "mappingproxy({'__module__': '__main__',\n",
       "              'x': <__main__.D at 0x7fa963e65a90>,\n",
       "              '__dict__': <attribute '__dict__' of 'A' objects>,\n",
       "              '__weakref__': <attribute '__weakref__' of 'A' objects>,\n",
       "              '__doc__': None})"
      ]
     },
     "execution_count": 235,
     "metadata": {},
     "output_type": "execute_result"
    }
   ],
   "source": [
    "A.__dict__"
   ]
  },
  {
   "cell_type": "code",
   "execution_count": 236,
   "id": "fd1ebae7",
   "metadata": {},
   "outputs": [],
   "source": [
    "import os"
   ]
  },
  {
   "cell_type": "code",
   "execution_count": 239,
   "id": "97a99b32",
   "metadata": {},
   "outputs": [],
   "source": [
    "class DirectorySize:\n",
    "    \n",
    "    def __get__(self, obj, objtype=None):\n",
    "        return len(os.listdir(obj.dirname))\n",
    "\n",
    "class Directory:\n",
    "    \n",
    "    size = DirectorySize()\n",
    "    \n",
    "    def __init__(self, dirname):\n",
    "        self.dirname = dirname\n",
    "        "
   ]
  },
  {
   "cell_type": "code",
   "execution_count": 240,
   "id": "47d73e06",
   "metadata": {},
   "outputs": [],
   "source": [
    "d = Directory(\".\")"
   ]
  },
  {
   "cell_type": "code",
   "execution_count": 241,
   "id": "d80b016f",
   "metadata": {},
   "outputs": [
    {
     "data": {
      "text/plain": [
       "3"
      ]
     },
     "execution_count": 241,
     "metadata": {},
     "output_type": "execute_result"
    }
   ],
   "source": [
    "d.size"
   ]
  },
  {
   "cell_type": "code",
   "execution_count": 243,
   "id": "a57ff238",
   "metadata": {},
   "outputs": [],
   "source": [
    "class Directory:\n",
    "    \n",
    "    def __init__(self, dirname):\n",
    "        self.dirname = dirname\n",
    "        \n",
    "    @property\n",
    "    def size(self):\n",
    "        return self._compute_size()\n",
    "    \n",
    "    def _compute_size(self):\n",
    "        return len(os.listdir(self.dirname)) \n",
    "    "
   ]
  },
  {
   "cell_type": "code",
   "execution_count": 244,
   "id": "2c47f4ba",
   "metadata": {},
   "outputs": [],
   "source": [
    "d = Directory(\".\")"
   ]
  },
  {
   "cell_type": "code",
   "execution_count": 245,
   "id": "cf304f40",
   "metadata": {},
   "outputs": [
    {
     "data": {
      "text/plain": [
       "3"
      ]
     },
     "execution_count": 245,
     "metadata": {},
     "output_type": "execute_result"
    }
   ],
   "source": [
    "d.size"
   ]
  },
  {
   "cell_type": "markdown",
   "id": "3d59e34d",
   "metadata": {},
   "source": [
    "Example: logging, instance data"
   ]
  },
  {
   "cell_type": "code",
   "execution_count": 252,
   "id": "4caf2480",
   "metadata": {},
   "outputs": [],
   "source": [
    "import logging\n",
    "\n",
    "logging.basicConfig(level=logging.INFO)\n",
    "\n",
    "class LoggedAgeAccess:\n",
    "    \n",
    "    def __get__(self, obj, objtype=None):\n",
    "        value = obj._age\n",
    "        logging.info(\"accessing %r giving %r\", \"age\", value)\n",
    "        return value\n",
    "    \n",
    "    def __set__(self, obj, value):\n",
    "        logging.info(\"updating %r to %r\", \"age\", value)\n",
    "        obj._age = value\n",
    "\n",
    "class Person:\n",
    "    \n",
    "    age = LoggedAgeAccess()\n",
    "    \n",
    "    def __init__(self, name, age):\n",
    "        self.name = name \n",
    "        self.age = age\n",
    "    \n",
    "    def birthday(self):\n",
    "        self.age += 1\n",
    "        \n",
    "        "
   ]
  },
  {
   "cell_type": "code",
   "execution_count": 253,
   "id": "bac5e122",
   "metadata": {},
   "outputs": [
    {
     "name": "stderr",
     "output_type": "stream",
     "text": [
      "INFO:root:updating 'age' to 30\n"
     ]
    }
   ],
   "source": [
    "mary = Person(\"mary\", 30)"
   ]
  },
  {
   "cell_type": "code",
   "execution_count": 254,
   "id": "3e5244e9",
   "metadata": {},
   "outputs": [
    {
     "name": "stderr",
     "output_type": "stream",
     "text": [
      "INFO:root:updating 'age' to 35\n"
     ]
    }
   ],
   "source": [
    "dave = Person(\"dave\", 35)"
   ]
  },
  {
   "cell_type": "code",
   "execution_count": 255,
   "id": "13ff16d7",
   "metadata": {},
   "outputs": [
    {
     "name": "stderr",
     "output_type": "stream",
     "text": [
      "INFO:root:accessing 'age' giving 30\n",
      "INFO:root:updating 'age' to 31\n"
     ]
    }
   ],
   "source": [
    "mary.birthday()"
   ]
  },
  {
   "cell_type": "code",
   "execution_count": null,
   "id": "58d80153",
   "metadata": {},
   "outputs": [],
   "source": []
  }
 ],
 "metadata": {
  "kernelspec": {
   "display_name": "Python 3 (ipykernel)",
   "language": "python",
   "name": "python3"
  },
  "language_info": {
   "codemirror_mode": {
    "name": "ipython",
    "version": 3
   },
   "file_extension": ".py",
   "mimetype": "text/x-python",
   "name": "python",
   "nbconvert_exporter": "python",
   "pygments_lexer": "ipython3",
   "version": "3.11.0"
  }
 },
 "nbformat": 4,
 "nbformat_minor": 5
}
